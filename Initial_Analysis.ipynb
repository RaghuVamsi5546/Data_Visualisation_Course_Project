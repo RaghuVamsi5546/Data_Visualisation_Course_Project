{
 "cells": [
  {
   "cell_type": "code",
   "execution_count": 1,
   "metadata": {},
   "outputs": [],
   "source": [
    "import pandas as pd\n",
    "import numpy as np\n",
    "import matplotlib.pyplot as plt\n",
    "import seaborn as sns\n",
    "from warnings import filterwarnings\n",
    "import plotly.express as px\n",
    "\n",
    "filterwarnings('ignore')\n",
    "%matplotlib inline"
   ]
  },
  {
   "cell_type": "code",
   "execution_count": 2,
   "metadata": {},
   "outputs": [],
   "source": [
    "df = pd.read_csv('Dataset.csv')"
   ]
  },
  {
   "cell_type": "code",
   "execution_count": 3,
   "metadata": {},
   "outputs": [
    {
     "data": {
      "text/plain": [
       "Index(['Country', 'Year', 'GDP (in Trillions USD)', 'GDP per Capita (in USD)',\n",
       "       'Inflation Rate (%)', 'Population (in Millions)',\n",
       "       'Population Growth Rate (%)', 'Urban Population (%)',\n",
       "       'Life Expectancy (Years)', 'Healthcare Expenditure per Capita (USD)',\n",
       "       'Doctor-to-Patient Ratio', 'Literacy Rate (%)',\n",
       "       'Education Expenditure as % of GDP', 'Internet Penetration (%)',\n",
       "       'Smartphone Adoption (%)', 'Energy Consumption (TWh)',\n",
       "       'Renewable Energy Share (%)', 'Military Expenditure (in Billion USD)',\n",
       "       'Number of Active Military Personnel',\n",
       "       'CO2 Emissions (Million Metric Tons)', 'Forest Coverage (%)',\n",
       "       'Number of Airports', 'Road Network Length (in km)',\n",
       "       'Public Transport Usage (%)', 'Human Development Index (HDI)',\n",
       "       'Gender Equality Index', 'Poverty Rate (%)',\n",
       "       'Number of International Visitors (in Millions)',\n",
       "       'Tourism Revenue (in Billion USD)', 'Agricultural Land (%)',\n",
       "       'Unemployment Rate (%)', 'Labor Force Participation Rate (%)',\n",
       "       'Crime Rate (per 100,000)', 'Corruption Perception Index',\n",
       "       'Freedom of Press Index', 'Voting Participation Rate (%)'],\n",
       "      dtype='object')"
      ]
     },
     "execution_count": 3,
     "metadata": {},
     "output_type": "execute_result"
    }
   ],
   "source": [
    "df.columns"
   ]
  },
  {
   "cell_type": "code",
   "execution_count": 4,
   "metadata": {},
   "outputs": [
    {
     "data": {
      "text/plain": [
       "(144, 36)"
      ]
     },
     "execution_count": 4,
     "metadata": {},
     "output_type": "execute_result"
    }
   ],
   "source": [
    "df.shape"
   ]
  },
  {
   "cell_type": "code",
   "execution_count": 5,
   "metadata": {},
   "outputs": [
    {
     "name": "stdout",
     "output_type": "stream",
     "text": [
      "Country                                            object\n",
      "Year                                                int64\n",
      "GDP (in Trillions USD)                            float64\n",
      "GDP per Capita (in USD)                           float64\n",
      "Inflation Rate (%)                                float64\n",
      "Population (in Millions)                          float64\n",
      "Population Growth Rate (%)                        float64\n",
      "Urban Population (%)                              float64\n",
      "Life Expectancy (Years)                           float64\n",
      "Healthcare Expenditure per Capita (USD)           float64\n",
      "Doctor-to-Patient Ratio                           float64\n",
      "Literacy Rate (%)                                 float64\n",
      "Education Expenditure as % of GDP                 float64\n",
      "Internet Penetration (%)                          float64\n",
      "Smartphone Adoption (%)                           float64\n",
      "Energy Consumption (TWh)                          float64\n",
      "Renewable Energy Share (%)                        float64\n",
      "Military Expenditure (in Billion USD)             float64\n",
      "Number of Active Military Personnel               float64\n",
      "CO2 Emissions (Million Metric Tons)               float64\n",
      "Forest Coverage (%)                               float64\n",
      "Number of Airports                                float64\n",
      "Road Network Length (in km)                       float64\n",
      "Public Transport Usage (%)                        float64\n",
      "Human Development Index (HDI)                     float64\n",
      "Gender Equality Index                             float64\n",
      "Poverty Rate (%)                                  float64\n",
      "Number of International Visitors (in Millions)    float64\n",
      "Tourism Revenue (in Billion USD)                  float64\n",
      "Agricultural Land (%)                             float64\n",
      "Unemployment Rate (%)                             float64\n",
      "Labor Force Participation Rate (%)                float64\n",
      "Crime Rate (per 100,000)                          float64\n",
      "Corruption Perception Index                       float64\n",
      "Freedom of Press Index                            float64\n",
      "Voting Participation Rate (%)                     float64\n",
      "dtype: object\n"
     ]
    }
   ],
   "source": [
    "data_types = df.dtypes\n",
    "print(data_types)"
   ]
  },
  {
   "cell_type": "code",
   "execution_count": 6,
   "metadata": {},
   "outputs": [
    {
     "data": {
      "text/html": [
       "<div>\n",
       "<style scoped>\n",
       "    .dataframe tbody tr th:only-of-type {\n",
       "        vertical-align: middle;\n",
       "    }\n",
       "\n",
       "    .dataframe tbody tr th {\n",
       "        vertical-align: top;\n",
       "    }\n",
       "\n",
       "    .dataframe thead th {\n",
       "        text-align: right;\n",
       "    }\n",
       "</style>\n",
       "<table border=\"1\" class=\"dataframe\">\n",
       "  <thead>\n",
       "    <tr style=\"text-align: right;\">\n",
       "      <th></th>\n",
       "      <th>Country</th>\n",
       "      <th>Year</th>\n",
       "      <th>GDP (in Trillions USD)</th>\n",
       "      <th>GDP per Capita (in USD)</th>\n",
       "      <th>Inflation Rate (%)</th>\n",
       "      <th>Population (in Millions)</th>\n",
       "      <th>Population Growth Rate (%)</th>\n",
       "      <th>Urban Population (%)</th>\n",
       "      <th>Life Expectancy (Years)</th>\n",
       "      <th>Healthcare Expenditure per Capita (USD)</th>\n",
       "      <th>...</th>\n",
       "      <th>Poverty Rate (%)</th>\n",
       "      <th>Number of International Visitors (in Millions)</th>\n",
       "      <th>Tourism Revenue (in Billion USD)</th>\n",
       "      <th>Agricultural Land (%)</th>\n",
       "      <th>Unemployment Rate (%)</th>\n",
       "      <th>Labor Force Participation Rate (%)</th>\n",
       "      <th>Crime Rate (per 100,000)</th>\n",
       "      <th>Corruption Perception Index</th>\n",
       "      <th>Freedom of Press Index</th>\n",
       "      <th>Voting Participation Rate (%)</th>\n",
       "    </tr>\n",
       "  </thead>\n",
       "  <tbody>\n",
       "    <tr>\n",
       "      <th>0</th>\n",
       "      <td>USA</td>\n",
       "      <td>2000</td>\n",
       "      <td>20.87</td>\n",
       "      <td>65455.0</td>\n",
       "      <td>2.28</td>\n",
       "      <td>330.34</td>\n",
       "      <td>0.58</td>\n",
       "      <td>83.42</td>\n",
       "      <td>78.39</td>\n",
       "      <td>11209.00</td>\n",
       "      <td>...</td>\n",
       "      <td>10.98</td>\n",
       "      <td>80.80</td>\n",
       "      <td>210.98</td>\n",
       "      <td>42.37</td>\n",
       "      <td>3.55</td>\n",
       "      <td>65.52</td>\n",
       "      <td>287.40</td>\n",
       "      <td>67.41</td>\n",
       "      <td>45.27</td>\n",
       "      <td>68.81</td>\n",
       "    </tr>\n",
       "    <tr>\n",
       "      <th>1</th>\n",
       "      <td>Russia</td>\n",
       "      <td>2000</td>\n",
       "      <td>1.64</td>\n",
       "      <td>10923.0</td>\n",
       "      <td>3.25</td>\n",
       "      <td>141.81</td>\n",
       "      <td>0.10</td>\n",
       "      <td>72.67</td>\n",
       "      <td>69.91</td>\n",
       "      <td>534.45</td>\n",
       "      <td>...</td>\n",
       "      <td>12.89</td>\n",
       "      <td>24.70</td>\n",
       "      <td>36.47</td>\n",
       "      <td>12.53</td>\n",
       "      <td>4.63</td>\n",
       "      <td>57.54</td>\n",
       "      <td>497.50</td>\n",
       "      <td>30.90</td>\n",
       "      <td>146.10</td>\n",
       "      <td>65.00</td>\n",
       "    </tr>\n",
       "    <tr>\n",
       "      <th>2</th>\n",
       "      <td>Canada</td>\n",
       "      <td>2000</td>\n",
       "      <td>1.65</td>\n",
       "      <td>47932.0</td>\n",
       "      <td>1.96</td>\n",
       "      <td>36.63</td>\n",
       "      <td>0.90</td>\n",
       "      <td>79.54</td>\n",
       "      <td>84.60</td>\n",
       "      <td>5113.50</td>\n",
       "      <td>...</td>\n",
       "      <td>9.46</td>\n",
       "      <td>22.33</td>\n",
       "      <td>29.52</td>\n",
       "      <td>7.22</td>\n",
       "      <td>5.43</td>\n",
       "      <td>65.06</td>\n",
       "      <td>795.20</td>\n",
       "      <td>74.74</td>\n",
       "      <td>16.42</td>\n",
       "      <td>63.00</td>\n",
       "    </tr>\n",
       "    <tr>\n",
       "      <th>3</th>\n",
       "      <td>China</td>\n",
       "      <td>2000</td>\n",
       "      <td>13.64</td>\n",
       "      <td>10060.0</td>\n",
       "      <td>2.43</td>\n",
       "      <td>1446.93</td>\n",
       "      <td>0.31</td>\n",
       "      <td>58.56</td>\n",
       "      <td>76.09</td>\n",
       "      <td>459.00</td>\n",
       "      <td>...</td>\n",
       "      <td>2.04</td>\n",
       "      <td>62.20</td>\n",
       "      <td>115.80</td>\n",
       "      <td>54.00</td>\n",
       "      <td>3.68</td>\n",
       "      <td>63.13</td>\n",
       "      <td>102.90</td>\n",
       "      <td>41.75</td>\n",
       "      <td>185.32</td>\n",
       "      <td>72.14</td>\n",
       "    </tr>\n",
       "    <tr>\n",
       "      <th>4</th>\n",
       "      <td>India</td>\n",
       "      <td>2000</td>\n",
       "      <td>2.98</td>\n",
       "      <td>2102.1</td>\n",
       "      <td>4.87</td>\n",
       "      <td>1313.76</td>\n",
       "      <td>1.04</td>\n",
       "      <td>34.09</td>\n",
       "      <td>68.78</td>\n",
       "      <td>76.07</td>\n",
       "      <td>...</td>\n",
       "      <td>22.25</td>\n",
       "      <td>11.25</td>\n",
       "      <td>29.12</td>\n",
       "      <td>57.60</td>\n",
       "      <td>7.31</td>\n",
       "      <td>52.10</td>\n",
       "      <td>245.25</td>\n",
       "      <td>40.12</td>\n",
       "      <td>136.36</td>\n",
       "      <td>67.65</td>\n",
       "    </tr>\n",
       "  </tbody>\n",
       "</table>\n",
       "<p>5 rows × 36 columns</p>\n",
       "</div>"
      ],
      "text/plain": [
       "  Country  Year  GDP (in Trillions USD)  GDP per Capita (in USD)  \\\n",
       "0     USA  2000                   20.87                  65455.0   \n",
       "1  Russia  2000                    1.64                  10923.0   \n",
       "2  Canada  2000                    1.65                  47932.0   \n",
       "3   China  2000                   13.64                  10060.0   \n",
       "4   India  2000                    2.98                   2102.1   \n",
       "\n",
       "   Inflation Rate (%)  Population (in Millions)  Population Growth Rate (%)  \\\n",
       "0                2.28                    330.34                        0.58   \n",
       "1                3.25                    141.81                        0.10   \n",
       "2                1.96                     36.63                        0.90   \n",
       "3                2.43                   1446.93                        0.31   \n",
       "4                4.87                   1313.76                        1.04   \n",
       "\n",
       "   Urban Population (%)  Life Expectancy (Years)  \\\n",
       "0                 83.42                    78.39   \n",
       "1                 72.67                    69.91   \n",
       "2                 79.54                    84.60   \n",
       "3                 58.56                    76.09   \n",
       "4                 34.09                    68.78   \n",
       "\n",
       "   Healthcare Expenditure per Capita (USD)  ...  Poverty Rate (%)  \\\n",
       "0                                 11209.00  ...             10.98   \n",
       "1                                   534.45  ...             12.89   \n",
       "2                                  5113.50  ...              9.46   \n",
       "3                                   459.00  ...              2.04   \n",
       "4                                    76.07  ...             22.25   \n",
       "\n",
       "   Number of International Visitors (in Millions)  \\\n",
       "0                                           80.80   \n",
       "1                                           24.70   \n",
       "2                                           22.33   \n",
       "3                                           62.20   \n",
       "4                                           11.25   \n",
       "\n",
       "   Tourism Revenue (in Billion USD)  Agricultural Land (%)  \\\n",
       "0                            210.98                  42.37   \n",
       "1                             36.47                  12.53   \n",
       "2                             29.52                   7.22   \n",
       "3                            115.80                  54.00   \n",
       "4                             29.12                  57.60   \n",
       "\n",
       "   Unemployment Rate (%)  Labor Force Participation Rate (%)  \\\n",
       "0                   3.55                               65.52   \n",
       "1                   4.63                               57.54   \n",
       "2                   5.43                               65.06   \n",
       "3                   3.68                               63.13   \n",
       "4                   7.31                               52.10   \n",
       "\n",
       "   Crime Rate (per 100,000)  Corruption Perception Index  \\\n",
       "0                    287.40                        67.41   \n",
       "1                    497.50                        30.90   \n",
       "2                    795.20                        74.74   \n",
       "3                    102.90                        41.75   \n",
       "4                    245.25                        40.12   \n",
       "\n",
       "   Freedom of Press Index  Voting Participation Rate (%)  \n",
       "0                   45.27                          68.81  \n",
       "1                  146.10                          65.00  \n",
       "2                   16.42                          63.00  \n",
       "3                  185.32                          72.14  \n",
       "4                  136.36                          67.65  \n",
       "\n",
       "[5 rows x 36 columns]"
      ]
     },
     "execution_count": 6,
     "metadata": {},
     "output_type": "execute_result"
    }
   ],
   "source": [
    "df.head()"
   ]
  },
  {
   "cell_type": "code",
   "execution_count": 7,
   "metadata": {},
   "outputs": [
    {
     "name": "stdout",
     "output_type": "stream",
     "text": [
      "<class 'pandas.core.frame.DataFrame'>\n",
      "RangeIndex: 144 entries, 0 to 143\n",
      "Data columns (total 36 columns):\n",
      " #   Column                                          Non-Null Count  Dtype  \n",
      "---  ------                                          --------------  -----  \n",
      " 0   Country                                         144 non-null    object \n",
      " 1   Year                                            144 non-null    int64  \n",
      " 2   GDP (in Trillions USD)                          144 non-null    float64\n",
      " 3   GDP per Capita (in USD)                         144 non-null    float64\n",
      " 4   Inflation Rate (%)                              144 non-null    float64\n",
      " 5   Population (in Millions)                        144 non-null    float64\n",
      " 6   Population Growth Rate (%)                      144 non-null    float64\n",
      " 7   Urban Population (%)                            144 non-null    float64\n",
      " 8   Life Expectancy (Years)                         144 non-null    float64\n",
      " 9   Healthcare Expenditure per Capita (USD)         144 non-null    float64\n",
      " 10  Doctor-to-Patient Ratio                         144 non-null    float64\n",
      " 11  Literacy Rate (%)                               144 non-null    float64\n",
      " 12  Education Expenditure as % of GDP               144 non-null    float64\n",
      " 13  Internet Penetration (%)                        144 non-null    float64\n",
      " 14  Smartphone Adoption (%)                         144 non-null    float64\n",
      " 15  Energy Consumption (TWh)                        144 non-null    float64\n",
      " 16  Renewable Energy Share (%)                      144 non-null    float64\n",
      " 17  Military Expenditure (in Billion USD)           144 non-null    float64\n",
      " 18  Number of Active Military Personnel             144 non-null    float64\n",
      " 19  CO2 Emissions (Million Metric Tons)             144 non-null    float64\n",
      " 20  Forest Coverage (%)                             144 non-null    float64\n",
      " 21  Number of Airports                              144 non-null    float64\n",
      " 22  Road Network Length (in km)                     144 non-null    float64\n",
      " 23  Public Transport Usage (%)                      144 non-null    float64\n",
      " 24  Human Development Index (HDI)                   144 non-null    float64\n",
      " 25  Gender Equality Index                           144 non-null    float64\n",
      " 26  Poverty Rate (%)                                144 non-null    float64\n",
      " 27  Number of International Visitors (in Millions)  144 non-null    float64\n",
      " 28  Tourism Revenue (in Billion USD)                144 non-null    float64\n",
      " 29  Agricultural Land (%)                           144 non-null    float64\n",
      " 30  Unemployment Rate (%)                           144 non-null    float64\n",
      " 31  Labor Force Participation Rate (%)              144 non-null    float64\n",
      " 32  Crime Rate (per 100,000)                        144 non-null    float64\n",
      " 33  Corruption Perception Index                     144 non-null    float64\n",
      " 34  Freedom of Press Index                          144 non-null    float64\n",
      " 35  Voting Participation Rate (%)                   144 non-null    float64\n",
      "dtypes: float64(34), int64(1), object(1)\n",
      "memory usage: 40.6+ KB\n"
     ]
    }
   ],
   "source": [
    "df.info()"
   ]
  },
  {
   "cell_type": "code",
   "execution_count": 8,
   "metadata": {},
   "outputs": [
    {
     "data": {
      "text/html": [
       "<div>\n",
       "<style scoped>\n",
       "    .dataframe tbody tr th:only-of-type {\n",
       "        vertical-align: middle;\n",
       "    }\n",
       "\n",
       "    .dataframe tbody tr th {\n",
       "        vertical-align: top;\n",
       "    }\n",
       "\n",
       "    .dataframe thead th {\n",
       "        text-align: right;\n",
       "    }\n",
       "</style>\n",
       "<table border=\"1\" class=\"dataframe\">\n",
       "  <thead>\n",
       "    <tr style=\"text-align: right;\">\n",
       "      <th></th>\n",
       "      <th>Year</th>\n",
       "      <th>GDP (in Trillions USD)</th>\n",
       "      <th>GDP per Capita (in USD)</th>\n",
       "      <th>Inflation Rate (%)</th>\n",
       "      <th>Population (in Millions)</th>\n",
       "      <th>Population Growth Rate (%)</th>\n",
       "      <th>Urban Population (%)</th>\n",
       "      <th>Life Expectancy (Years)</th>\n",
       "      <th>Healthcare Expenditure per Capita (USD)</th>\n",
       "      <th>Doctor-to-Patient Ratio</th>\n",
       "      <th>...</th>\n",
       "      <th>Poverty Rate (%)</th>\n",
       "      <th>Number of International Visitors (in Millions)</th>\n",
       "      <th>Tourism Revenue (in Billion USD)</th>\n",
       "      <th>Agricultural Land (%)</th>\n",
       "      <th>Unemployment Rate (%)</th>\n",
       "      <th>Labor Force Participation Rate (%)</th>\n",
       "      <th>Crime Rate (per 100,000)</th>\n",
       "      <th>Corruption Perception Index</th>\n",
       "      <th>Freedom of Press Index</th>\n",
       "      <th>Voting Participation Rate (%)</th>\n",
       "    </tr>\n",
       "  </thead>\n",
       "  <tbody>\n",
       "    <tr>\n",
       "      <th>count</th>\n",
       "      <td>144.000000</td>\n",
       "      <td>144.000000</td>\n",
       "      <td>144.000000</td>\n",
       "      <td>144.000000</td>\n",
       "      <td>144.000000</td>\n",
       "      <td>144.000000</td>\n",
       "      <td>144.000000</td>\n",
       "      <td>144.000000</td>\n",
       "      <td>144.000000</td>\n",
       "      <td>144.000000</td>\n",
       "      <td>...</td>\n",
       "      <td>144.000000</td>\n",
       "      <td>144.000000</td>\n",
       "      <td>144.000000</td>\n",
       "      <td>144.000000</td>\n",
       "      <td>144.000000</td>\n",
       "      <td>144.000000</td>\n",
       "      <td>144.00000</td>\n",
       "      <td>144.000000</td>\n",
       "      <td>144.000000</td>\n",
       "      <td>144.000000</td>\n",
       "    </tr>\n",
       "    <tr>\n",
       "      <th>mean</th>\n",
       "      <td>2011.500000</td>\n",
       "      <td>7.186667</td>\n",
       "      <td>31118.720139</td>\n",
       "      <td>2.653125</td>\n",
       "      <td>550.913542</td>\n",
       "      <td>0.702153</td>\n",
       "      <td>69.617222</td>\n",
       "      <td>77.323194</td>\n",
       "      <td>3747.403819</td>\n",
       "      <td>2.598194</td>\n",
       "      <td>...</td>\n",
       "      <td>10.975139</td>\n",
       "      <td>35.271806</td>\n",
       "      <td>82.536458</td>\n",
       "      <td>38.506458</td>\n",
       "      <td>4.980833</td>\n",
       "      <td>61.001181</td>\n",
       "      <td>474.94375</td>\n",
       "      <td>55.235347</td>\n",
       "      <td>92.348403</td>\n",
       "      <td>70.296736</td>\n",
       "    </tr>\n",
       "    <tr>\n",
       "      <th>std</th>\n",
       "      <td>6.946348</td>\n",
       "      <td>7.807163</td>\n",
       "      <td>24438.786379</td>\n",
       "      <td>1.067940</td>\n",
       "      <td>600.169798</td>\n",
       "      <td>0.417256</td>\n",
       "      <td>17.862888</td>\n",
       "      <td>5.411696</td>\n",
       "      <td>3914.846503</td>\n",
       "      <td>1.029520</td>\n",
       "      <td>...</td>\n",
       "      <td>5.885337</td>\n",
       "      <td>27.234486</td>\n",
       "      <td>69.991391</td>\n",
       "      <td>20.921471</td>\n",
       "      <td>1.327104</td>\n",
       "      <td>5.520543</td>\n",
       "      <td>292.35926</td>\n",
       "      <td>18.662935</td>\n",
       "      <td>65.630659</td>\n",
       "      <td>10.602064</td>\n",
       "    </tr>\n",
       "    <tr>\n",
       "      <th>min</th>\n",
       "      <td>2000.000000</td>\n",
       "      <td>1.270000</td>\n",
       "      <td>2009.700000</td>\n",
       "      <td>1.440000</td>\n",
       "      <td>23.900000</td>\n",
       "      <td>0.100000</td>\n",
       "      <td>33.600000</td>\n",
       "      <td>66.140000</td>\n",
       "      <td>69.420000</td>\n",
       "      <td>0.860000</td>\n",
       "      <td>...</td>\n",
       "      <td>1.910000</td>\n",
       "      <td>8.970000</td>\n",
       "      <td>26.850000</td>\n",
       "      <td>6.730000</td>\n",
       "      <td>3.430000</td>\n",
       "      <td>47.700000</td>\n",
       "      <td>95.30000</td>\n",
       "      <td>28.560000</td>\n",
       "      <td>15.280000</td>\n",
       "      <td>57.240000</td>\n",
       "    </tr>\n",
       "    <tr>\n",
       "      <th>25%</th>\n",
       "      <td>2005.750000</td>\n",
       "      <td>1.630000</td>\n",
       "      <td>9972.500000</td>\n",
       "      <td>1.887500</td>\n",
       "      <td>37.342500</td>\n",
       "      <td>0.300000</td>\n",
       "      <td>59.940000</td>\n",
       "      <td>73.042500</td>\n",
       "      <td>447.750000</td>\n",
       "      <td>1.810000</td>\n",
       "      <td>...</td>\n",
       "      <td>9.317500</td>\n",
       "      <td>10.960000</td>\n",
       "      <td>29.812500</td>\n",
       "      <td>13.010000</td>\n",
       "      <td>3.735000</td>\n",
       "      <td>59.340000</td>\n",
       "      <td>250.43750</td>\n",
       "      <td>40.070000</td>\n",
       "      <td>25.137500</td>\n",
       "      <td>63.420000</td>\n",
       "    </tr>\n",
       "    <tr>\n",
       "      <th>50%</th>\n",
       "      <td>2011.500000</td>\n",
       "      <td>2.275000</td>\n",
       "      <td>27548.000000</td>\n",
       "      <td>2.330000</td>\n",
       "      <td>233.770000</td>\n",
       "      <td>0.745000</td>\n",
       "      <td>77.330000</td>\n",
       "      <td>78.020000</td>\n",
       "      <td>2747.700000</td>\n",
       "      <td>2.735000</td>\n",
       "      <td>...</td>\n",
       "      <td>10.040000</td>\n",
       "      <td>23.370000</td>\n",
       "      <td>46.995000</td>\n",
       "      <td>48.140000</td>\n",
       "      <td>4.760000</td>\n",
       "      <td>62.230000</td>\n",
       "      <td>395.35000</td>\n",
       "      <td>54.820000</td>\n",
       "      <td>90.220000</td>\n",
       "      <td>67.615000</td>\n",
       "    </tr>\n",
       "    <tr>\n",
       "      <th>75%</th>\n",
       "      <td>2017.250000</td>\n",
       "      <td>14.232500</td>\n",
       "      <td>52231.500000</td>\n",
       "      <td>3.072500</td>\n",
       "      <td>1341.540000</td>\n",
       "      <td>1.010000</td>\n",
       "      <td>83.110000</td>\n",
       "      <td>81.715000</td>\n",
       "      <td>5379.400000</td>\n",
       "      <td>3.417500</td>\n",
       "      <td>...</td>\n",
       "      <td>12.360000</td>\n",
       "      <td>64.625000</td>\n",
       "      <td>120.870000</td>\n",
       "      <td>55.090000</td>\n",
       "      <td>5.517500</td>\n",
       "      <td>65.112500</td>\n",
       "      <td>796.40000</td>\n",
       "      <td>73.410000</td>\n",
       "      <td>150.337500</td>\n",
       "      <td>71.192500</td>\n",
       "    </tr>\n",
       "    <tr>\n",
       "      <th>max</th>\n",
       "      <td>2023.000000</td>\n",
       "      <td>22.240000</td>\n",
       "      <td>68120.000000</td>\n",
       "      <td>5.040000</td>\n",
       "      <td>1462.310000</td>\n",
       "      <td>1.360000</td>\n",
       "      <td>90.040000</td>\n",
       "      <td>87.150000</td>\n",
       "      <td>11528.000000</td>\n",
       "      <td>4.200000</td>\n",
       "      <td>...</td>\n",
       "      <td>22.970000</td>\n",
       "      <td>83.600000</td>\n",
       "      <td>230.340000</td>\n",
       "      <td>62.940000</td>\n",
       "      <td>7.870000</td>\n",
       "      <td>69.230000</td>\n",
       "      <td>943.20000</td>\n",
       "      <td>80.850000</td>\n",
       "      <td>185.320000</td>\n",
       "      <td>96.600000</td>\n",
       "    </tr>\n",
       "  </tbody>\n",
       "</table>\n",
       "<p>8 rows × 35 columns</p>\n",
       "</div>"
      ],
      "text/plain": [
       "              Year  GDP (in Trillions USD)  GDP per Capita (in USD)  \\\n",
       "count   144.000000              144.000000               144.000000   \n",
       "mean   2011.500000                7.186667             31118.720139   \n",
       "std       6.946348                7.807163             24438.786379   \n",
       "min    2000.000000                1.270000              2009.700000   \n",
       "25%    2005.750000                1.630000              9972.500000   \n",
       "50%    2011.500000                2.275000             27548.000000   \n",
       "75%    2017.250000               14.232500             52231.500000   \n",
       "max    2023.000000               22.240000             68120.000000   \n",
       "\n",
       "       Inflation Rate (%)  Population (in Millions)  \\\n",
       "count          144.000000                144.000000   \n",
       "mean             2.653125                550.913542   \n",
       "std              1.067940                600.169798   \n",
       "min              1.440000                 23.900000   \n",
       "25%              1.887500                 37.342500   \n",
       "50%              2.330000                233.770000   \n",
       "75%              3.072500               1341.540000   \n",
       "max              5.040000               1462.310000   \n",
       "\n",
       "       Population Growth Rate (%)  Urban Population (%)  \\\n",
       "count                  144.000000            144.000000   \n",
       "mean                     0.702153             69.617222   \n",
       "std                      0.417256             17.862888   \n",
       "min                      0.100000             33.600000   \n",
       "25%                      0.300000             59.940000   \n",
       "50%                      0.745000             77.330000   \n",
       "75%                      1.010000             83.110000   \n",
       "max                      1.360000             90.040000   \n",
       "\n",
       "       Life Expectancy (Years)  Healthcare Expenditure per Capita (USD)  \\\n",
       "count               144.000000                               144.000000   \n",
       "mean                 77.323194                              3747.403819   \n",
       "std                   5.411696                              3914.846503   \n",
       "min                  66.140000                                69.420000   \n",
       "25%                  73.042500                               447.750000   \n",
       "50%                  78.020000                              2747.700000   \n",
       "75%                  81.715000                              5379.400000   \n",
       "max                  87.150000                             11528.000000   \n",
       "\n",
       "       Doctor-to-Patient Ratio  ...  Poverty Rate (%)  \\\n",
       "count               144.000000  ...        144.000000   \n",
       "mean                  2.598194  ...         10.975139   \n",
       "std                   1.029520  ...          5.885337   \n",
       "min                   0.860000  ...          1.910000   \n",
       "25%                   1.810000  ...          9.317500   \n",
       "50%                   2.735000  ...         10.040000   \n",
       "75%                   3.417500  ...         12.360000   \n",
       "max                   4.200000  ...         22.970000   \n",
       "\n",
       "       Number of International Visitors (in Millions)  \\\n",
       "count                                      144.000000   \n",
       "mean                                        35.271806   \n",
       "std                                         27.234486   \n",
       "min                                          8.970000   \n",
       "25%                                         10.960000   \n",
       "50%                                         23.370000   \n",
       "75%                                         64.625000   \n",
       "max                                         83.600000   \n",
       "\n",
       "       Tourism Revenue (in Billion USD)  Agricultural Land (%)  \\\n",
       "count                        144.000000             144.000000   \n",
       "mean                          82.536458              38.506458   \n",
       "std                           69.991391              20.921471   \n",
       "min                           26.850000               6.730000   \n",
       "25%                           29.812500              13.010000   \n",
       "50%                           46.995000              48.140000   \n",
       "75%                          120.870000              55.090000   \n",
       "max                          230.340000              62.940000   \n",
       "\n",
       "       Unemployment Rate (%)  Labor Force Participation Rate (%)  \\\n",
       "count             144.000000                          144.000000   \n",
       "mean                4.980833                           61.001181   \n",
       "std                 1.327104                            5.520543   \n",
       "min                 3.430000                           47.700000   \n",
       "25%                 3.735000                           59.340000   \n",
       "50%                 4.760000                           62.230000   \n",
       "75%                 5.517500                           65.112500   \n",
       "max                 7.870000                           69.230000   \n",
       "\n",
       "       Crime Rate (per 100,000)  Corruption Perception Index  \\\n",
       "count                 144.00000                   144.000000   \n",
       "mean                  474.94375                    55.235347   \n",
       "std                   292.35926                    18.662935   \n",
       "min                    95.30000                    28.560000   \n",
       "25%                   250.43750                    40.070000   \n",
       "50%                   395.35000                    54.820000   \n",
       "75%                   796.40000                    73.410000   \n",
       "max                   943.20000                    80.850000   \n",
       "\n",
       "       Freedom of Press Index  Voting Participation Rate (%)  \n",
       "count              144.000000                     144.000000  \n",
       "mean                92.348403                      70.296736  \n",
       "std                 65.630659                      10.602064  \n",
       "min                 15.280000                      57.240000  \n",
       "25%                 25.137500                      63.420000  \n",
       "50%                 90.220000                      67.615000  \n",
       "75%                150.337500                      71.192500  \n",
       "max                185.320000                      96.600000  \n",
       "\n",
       "[8 rows x 35 columns]"
      ]
     },
     "execution_count": 8,
     "metadata": {},
     "output_type": "execute_result"
    }
   ],
   "source": [
    "df.describe()"
   ]
  },
  {
   "cell_type": "code",
   "execution_count": 9,
   "metadata": {},
   "outputs": [],
   "source": [
    "from scipy import stats\n",
    "z_scores = stats.zscore(df.select_dtypes(include=['float64', 'int64']))\n",
    "df_outliers = df[(z_scores > 3).any(axis=1) | (z_scores < -3).any(axis=1)]"
   ]
  },
  {
   "cell_type": "code",
   "execution_count": 10,
   "metadata": {},
   "outputs": [
    {
     "data": {
      "text/html": [
       "<div>\n",
       "<style scoped>\n",
       "    .dataframe tbody tr th:only-of-type {\n",
       "        vertical-align: middle;\n",
       "    }\n",
       "\n",
       "    .dataframe tbody tr th {\n",
       "        vertical-align: top;\n",
       "    }\n",
       "\n",
       "    .dataframe thead th {\n",
       "        text-align: right;\n",
       "    }\n",
       "</style>\n",
       "<table border=\"1\" class=\"dataframe\">\n",
       "  <thead>\n",
       "    <tr style=\"text-align: right;\">\n",
       "      <th></th>\n",
       "      <th>Country</th>\n",
       "      <th>Year</th>\n",
       "      <th>GDP (in Trillions USD)</th>\n",
       "      <th>GDP per Capita (in USD)</th>\n",
       "      <th>Inflation Rate (%)</th>\n",
       "      <th>Population (in Millions)</th>\n",
       "      <th>Population Growth Rate (%)</th>\n",
       "      <th>Urban Population (%)</th>\n",
       "      <th>Life Expectancy (Years)</th>\n",
       "      <th>Healthcare Expenditure per Capita (USD)</th>\n",
       "      <th>...</th>\n",
       "      <th>Poverty Rate (%)</th>\n",
       "      <th>Number of International Visitors (in Millions)</th>\n",
       "      <th>Tourism Revenue (in Billion USD)</th>\n",
       "      <th>Agricultural Land (%)</th>\n",
       "      <th>Unemployment Rate (%)</th>\n",
       "      <th>Labor Force Participation Rate (%)</th>\n",
       "      <th>Crime Rate (per 100,000)</th>\n",
       "      <th>Corruption Perception Index</th>\n",
       "      <th>Freedom of Press Index</th>\n",
       "      <th>Voting Participation Rate (%)</th>\n",
       "    </tr>\n",
       "  </thead>\n",
       "  <tbody>\n",
       "    <tr>\n",
       "      <th>0</th>\n",
       "      <td>USA</td>\n",
       "      <td>2000</td>\n",
       "      <td>20.87</td>\n",
       "      <td>65455.0</td>\n",
       "      <td>2.28</td>\n",
       "      <td>330.34</td>\n",
       "      <td>0.58</td>\n",
       "      <td>83.42</td>\n",
       "      <td>78.39</td>\n",
       "      <td>11209.00</td>\n",
       "      <td>...</td>\n",
       "      <td>10.98</td>\n",
       "      <td>80.80</td>\n",
       "      <td>210.98</td>\n",
       "      <td>42.37</td>\n",
       "      <td>3.55</td>\n",
       "      <td>65.52</td>\n",
       "      <td>287.40</td>\n",
       "      <td>67.41</td>\n",
       "      <td>45.27</td>\n",
       "      <td>68.81</td>\n",
       "    </tr>\n",
       "    <tr>\n",
       "      <th>1</th>\n",
       "      <td>Russia</td>\n",
       "      <td>2000</td>\n",
       "      <td>1.64</td>\n",
       "      <td>10923.0</td>\n",
       "      <td>3.25</td>\n",
       "      <td>141.81</td>\n",
       "      <td>0.10</td>\n",
       "      <td>72.67</td>\n",
       "      <td>69.91</td>\n",
       "      <td>534.45</td>\n",
       "      <td>...</td>\n",
       "      <td>12.89</td>\n",
       "      <td>24.70</td>\n",
       "      <td>36.47</td>\n",
       "      <td>12.53</td>\n",
       "      <td>4.63</td>\n",
       "      <td>57.54</td>\n",
       "      <td>497.50</td>\n",
       "      <td>30.90</td>\n",
       "      <td>146.10</td>\n",
       "      <td>65.00</td>\n",
       "    </tr>\n",
       "    <tr>\n",
       "      <th>2</th>\n",
       "      <td>Canada</td>\n",
       "      <td>2000</td>\n",
       "      <td>1.65</td>\n",
       "      <td>47932.0</td>\n",
       "      <td>1.96</td>\n",
       "      <td>36.63</td>\n",
       "      <td>0.90</td>\n",
       "      <td>79.54</td>\n",
       "      <td>84.60</td>\n",
       "      <td>5113.50</td>\n",
       "      <td>...</td>\n",
       "      <td>9.46</td>\n",
       "      <td>22.33</td>\n",
       "      <td>29.52</td>\n",
       "      <td>7.22</td>\n",
       "      <td>5.43</td>\n",
       "      <td>65.06</td>\n",
       "      <td>795.20</td>\n",
       "      <td>74.74</td>\n",
       "      <td>16.42</td>\n",
       "      <td>63.00</td>\n",
       "    </tr>\n",
       "    <tr>\n",
       "      <th>3</th>\n",
       "      <td>China</td>\n",
       "      <td>2000</td>\n",
       "      <td>13.64</td>\n",
       "      <td>10060.0</td>\n",
       "      <td>2.43</td>\n",
       "      <td>1446.93</td>\n",
       "      <td>0.31</td>\n",
       "      <td>58.56</td>\n",
       "      <td>76.09</td>\n",
       "      <td>459.00</td>\n",
       "      <td>...</td>\n",
       "      <td>2.04</td>\n",
       "      <td>62.20</td>\n",
       "      <td>115.80</td>\n",
       "      <td>54.00</td>\n",
       "      <td>3.68</td>\n",
       "      <td>63.13</td>\n",
       "      <td>102.90</td>\n",
       "      <td>41.75</td>\n",
       "      <td>185.32</td>\n",
       "      <td>72.14</td>\n",
       "    </tr>\n",
       "    <tr>\n",
       "      <th>4</th>\n",
       "      <td>India</td>\n",
       "      <td>2000</td>\n",
       "      <td>2.98</td>\n",
       "      <td>2102.1</td>\n",
       "      <td>4.87</td>\n",
       "      <td>1313.76</td>\n",
       "      <td>1.04</td>\n",
       "      <td>34.09</td>\n",
       "      <td>68.78</td>\n",
       "      <td>76.07</td>\n",
       "      <td>...</td>\n",
       "      <td>22.25</td>\n",
       "      <td>11.25</td>\n",
       "      <td>29.12</td>\n",
       "      <td>57.60</td>\n",
       "      <td>7.31</td>\n",
       "      <td>52.10</td>\n",
       "      <td>245.25</td>\n",
       "      <td>40.12</td>\n",
       "      <td>136.36</td>\n",
       "      <td>67.65</td>\n",
       "    </tr>\n",
       "    <tr>\n",
       "      <th>...</th>\n",
       "      <td>...</td>\n",
       "      <td>...</td>\n",
       "      <td>...</td>\n",
       "      <td>...</td>\n",
       "      <td>...</td>\n",
       "      <td>...</td>\n",
       "      <td>...</td>\n",
       "      <td>...</td>\n",
       "      <td>...</td>\n",
       "      <td>...</td>\n",
       "      <td>...</td>\n",
       "      <td>...</td>\n",
       "      <td>...</td>\n",
       "      <td>...</td>\n",
       "      <td>...</td>\n",
       "      <td>...</td>\n",
       "      <td>...</td>\n",
       "      <td>...</td>\n",
       "      <td>...</td>\n",
       "      <td>...</td>\n",
       "      <td>...</td>\n",
       "    </tr>\n",
       "    <tr>\n",
       "      <th>139</th>\n",
       "      <td>Russia</td>\n",
       "      <td>2023</td>\n",
       "      <td>1.64</td>\n",
       "      <td>10978.0</td>\n",
       "      <td>3.20</td>\n",
       "      <td>138.04</td>\n",
       "      <td>0.10</td>\n",
       "      <td>71.56</td>\n",
       "      <td>73.47</td>\n",
       "      <td>539.70</td>\n",
       "      <td>...</td>\n",
       "      <td>12.36</td>\n",
       "      <td>24.55</td>\n",
       "      <td>35.28</td>\n",
       "      <td>12.54</td>\n",
       "      <td>4.69</td>\n",
       "      <td>58.62</td>\n",
       "      <td>477.50</td>\n",
       "      <td>31.02</td>\n",
       "      <td>150.15</td>\n",
       "      <td>65.33</td>\n",
       "    </tr>\n",
       "    <tr>\n",
       "      <th>140</th>\n",
       "      <td>Canada</td>\n",
       "      <td>2023</td>\n",
       "      <td>1.73</td>\n",
       "      <td>44804.0</td>\n",
       "      <td>1.88</td>\n",
       "      <td>35.59</td>\n",
       "      <td>0.93</td>\n",
       "      <td>83.11</td>\n",
       "      <td>79.17</td>\n",
       "      <td>5139.75</td>\n",
       "      <td>...</td>\n",
       "      <td>9.24</td>\n",
       "      <td>21.32</td>\n",
       "      <td>29.13</td>\n",
       "      <td>6.96</td>\n",
       "      <td>5.44</td>\n",
       "      <td>64.61</td>\n",
       "      <td>800.80</td>\n",
       "      <td>72.37</td>\n",
       "      <td>15.52</td>\n",
       "      <td>62.28</td>\n",
       "    </tr>\n",
       "    <tr>\n",
       "      <th>141</th>\n",
       "      <td>China</td>\n",
       "      <td>2023</td>\n",
       "      <td>13.72</td>\n",
       "      <td>9870.0</td>\n",
       "      <td>2.29</td>\n",
       "      <td>1407.79</td>\n",
       "      <td>0.29</td>\n",
       "      <td>61.86</td>\n",
       "      <td>73.10</td>\n",
       "      <td>430.20</td>\n",
       "      <td>...</td>\n",
       "      <td>1.92</td>\n",
       "      <td>64.67</td>\n",
       "      <td>116.76</td>\n",
       "      <td>56.54</td>\n",
       "      <td>3.58</td>\n",
       "      <td>65.77</td>\n",
       "      <td>95.30</td>\n",
       "      <td>43.22</td>\n",
       "      <td>184.26</td>\n",
       "      <td>71.14</td>\n",
       "    </tr>\n",
       "    <tr>\n",
       "      <th>142</th>\n",
       "      <td>India</td>\n",
       "      <td>2023</td>\n",
       "      <td>2.79</td>\n",
       "      <td>2070.6</td>\n",
       "      <td>4.70</td>\n",
       "      <td>1411.74</td>\n",
       "      <td>1.03</td>\n",
       "      <td>34.05</td>\n",
       "      <td>70.09</td>\n",
       "      <td>76.07</td>\n",
       "      <td>...</td>\n",
       "      <td>21.94</td>\n",
       "      <td>10.74</td>\n",
       "      <td>28.00</td>\n",
       "      <td>57.36</td>\n",
       "      <td>7.16</td>\n",
       "      <td>48.25</td>\n",
       "      <td>240.75</td>\n",
       "      <td>41.36</td>\n",
       "      <td>133.28</td>\n",
       "      <td>66.20</td>\n",
       "    </tr>\n",
       "    <tr>\n",
       "      <th>143</th>\n",
       "      <td>Australia</td>\n",
       "      <td>2023</td>\n",
       "      <td>1.27</td>\n",
       "      <td>51304.0</td>\n",
       "      <td>1.54</td>\n",
       "      <td>24.38</td>\n",
       "      <td>1.36</td>\n",
       "      <td>84.37</td>\n",
       "      <td>83.40</td>\n",
       "      <td>5434.00</td>\n",
       "      <td>...</td>\n",
       "      <td>9.99</td>\n",
       "      <td>9.77</td>\n",
       "      <td>58.26</td>\n",
       "      <td>53.80</td>\n",
       "      <td>4.75</td>\n",
       "      <td>69.23</td>\n",
       "      <td>910.80</td>\n",
       "      <td>75.92</td>\n",
       "      <td>25.88</td>\n",
       "      <td>94.39</td>\n",
       "    </tr>\n",
       "  </tbody>\n",
       "</table>\n",
       "<p>144 rows × 36 columns</p>\n",
       "</div>"
      ],
      "text/plain": [
       "       Country  Year  GDP (in Trillions USD)  GDP per Capita (in USD)  \\\n",
       "0          USA  2000                   20.87                  65455.0   \n",
       "1       Russia  2000                    1.64                  10923.0   \n",
       "2       Canada  2000                    1.65                  47932.0   \n",
       "3        China  2000                   13.64                  10060.0   \n",
       "4        India  2000                    2.98                   2102.1   \n",
       "..         ...   ...                     ...                      ...   \n",
       "139     Russia  2023                    1.64                  10978.0   \n",
       "140     Canada  2023                    1.73                  44804.0   \n",
       "141      China  2023                   13.72                   9870.0   \n",
       "142      India  2023                    2.79                   2070.6   \n",
       "143  Australia  2023                    1.27                  51304.0   \n",
       "\n",
       "     Inflation Rate (%)  Population (in Millions)  Population Growth Rate (%)  \\\n",
       "0                  2.28                    330.34                        0.58   \n",
       "1                  3.25                    141.81                        0.10   \n",
       "2                  1.96                     36.63                        0.90   \n",
       "3                  2.43                   1446.93                        0.31   \n",
       "4                  4.87                   1313.76                        1.04   \n",
       "..                  ...                       ...                         ...   \n",
       "139                3.20                    138.04                        0.10   \n",
       "140                1.88                     35.59                        0.93   \n",
       "141                2.29                   1407.79                        0.29   \n",
       "142                4.70                   1411.74                        1.03   \n",
       "143                1.54                     24.38                        1.36   \n",
       "\n",
       "     Urban Population (%)  Life Expectancy (Years)  \\\n",
       "0                   83.42                    78.39   \n",
       "1                   72.67                    69.91   \n",
       "2                   79.54                    84.60   \n",
       "3                   58.56                    76.09   \n",
       "4                   34.09                    68.78   \n",
       "..                    ...                      ...   \n",
       "139                 71.56                    73.47   \n",
       "140                 83.11                    79.17   \n",
       "141                 61.86                    73.10   \n",
       "142                 34.05                    70.09   \n",
       "143                 84.37                    83.40   \n",
       "\n",
       "     Healthcare Expenditure per Capita (USD)  ...  Poverty Rate (%)  \\\n",
       "0                                   11209.00  ...             10.98   \n",
       "1                                     534.45  ...             12.89   \n",
       "2                                    5113.50  ...              9.46   \n",
       "3                                     459.00  ...              2.04   \n",
       "4                                      76.07  ...             22.25   \n",
       "..                                       ...  ...               ...   \n",
       "139                                   539.70  ...             12.36   \n",
       "140                                  5139.75  ...              9.24   \n",
       "141                                   430.20  ...              1.92   \n",
       "142                                    76.07  ...             21.94   \n",
       "143                                  5434.00  ...              9.99   \n",
       "\n",
       "     Number of International Visitors (in Millions)  \\\n",
       "0                                             80.80   \n",
       "1                                             24.70   \n",
       "2                                             22.33   \n",
       "3                                             62.20   \n",
       "4                                             11.25   \n",
       "..                                              ...   \n",
       "139                                           24.55   \n",
       "140                                           21.32   \n",
       "141                                           64.67   \n",
       "142                                           10.74   \n",
       "143                                            9.77   \n",
       "\n",
       "     Tourism Revenue (in Billion USD)  Agricultural Land (%)  \\\n",
       "0                              210.98                  42.37   \n",
       "1                               36.47                  12.53   \n",
       "2                               29.52                   7.22   \n",
       "3                              115.80                  54.00   \n",
       "4                               29.12                  57.60   \n",
       "..                                ...                    ...   \n",
       "139                             35.28                  12.54   \n",
       "140                             29.13                   6.96   \n",
       "141                            116.76                  56.54   \n",
       "142                             28.00                  57.36   \n",
       "143                             58.26                  53.80   \n",
       "\n",
       "     Unemployment Rate (%)  Labor Force Participation Rate (%)  \\\n",
       "0                     3.55                               65.52   \n",
       "1                     4.63                               57.54   \n",
       "2                     5.43                               65.06   \n",
       "3                     3.68                               63.13   \n",
       "4                     7.31                               52.10   \n",
       "..                     ...                                 ...   \n",
       "139                   4.69                               58.62   \n",
       "140                   5.44                               64.61   \n",
       "141                   3.58                               65.77   \n",
       "142                   7.16                               48.25   \n",
       "143                   4.75                               69.23   \n",
       "\n",
       "     Crime Rate (per 100,000)  Corruption Perception Index  \\\n",
       "0                      287.40                        67.41   \n",
       "1                      497.50                        30.90   \n",
       "2                      795.20                        74.74   \n",
       "3                      102.90                        41.75   \n",
       "4                      245.25                        40.12   \n",
       "..                        ...                          ...   \n",
       "139                    477.50                        31.02   \n",
       "140                    800.80                        72.37   \n",
       "141                     95.30                        43.22   \n",
       "142                    240.75                        41.36   \n",
       "143                    910.80                        75.92   \n",
       "\n",
       "     Freedom of Press Index  Voting Participation Rate (%)  \n",
       "0                     45.27                          68.81  \n",
       "1                    146.10                          65.00  \n",
       "2                     16.42                          63.00  \n",
       "3                    185.32                          72.14  \n",
       "4                    136.36                          67.65  \n",
       "..                      ...                            ...  \n",
       "139                  150.15                          65.33  \n",
       "140                   15.52                          62.28  \n",
       "141                  184.26                          71.14  \n",
       "142                  133.28                          66.20  \n",
       "143                   25.88                          94.39  \n",
       "\n",
       "[144 rows x 36 columns]"
      ]
     },
     "execution_count": 10,
     "metadata": {},
     "output_type": "execute_result"
    }
   ],
   "source": [
    "df_no_outliers = df[(z_scores < 3).all(axis=1) & (z_scores > -3).all(axis=1)]\n",
    "df_no_outliers"
   ]
  },
  {
   "cell_type": "code",
   "execution_count": 11,
   "metadata": {},
   "outputs": [
    {
     "data": {
      "text/plain": [
       "<Figure size 1400x1000 with 0 Axes>"
      ]
     },
     "metadata": {},
     "output_type": "display_data"
    },
    {
     "data": {
      "image/png": "[encoded data removed]",
      "text/plain": [
       "<Figure size 1400x1000 with 4 Axes>"
      ]
     },
     "metadata": {},
     "output_type": "display_data"
    }
   ],
   "source": [
    "numeric_df = df.select_dtypes(include=[np.number])\n",
    "corr_matrix = numeric_df.corr()\n",
    "\n",
    "plt.figure(figsize=(14, 10))\n",
    "\n",
    "sns.clustermap(corr_matrix, \n",
    "               annot=False,  \n",
    "               cmap='coolwarm', \n",
    "               linewidths=0.5, \n",
    "               figsize=(14, 10),  \n",
    "               dendrogram_ratio=(0.2, 0.2),  \n",
    "               cbar_kws={'shrink': 0.8})  \n",
    "\n",
    "plt.suptitle('Clustered Correlation Matrix for Numeric Variables', y=1.05, fontsize=16)\n",
    "plt.show()\n"
   ]
  },
  {
   "cell_type": "code",
   "execution_count": 12,
   "metadata": {},
   "outputs": [
    {
     "data": {
      "application/vnd.plotly.v1+json": {
       "config": {
        "plotlyServerURL": "https://plot.ly"
       },
       "data": [
        {
         "hovertemplate": "Country=USA<br>Year=%{x}<br>GDP (in Trillions USD)=%{y}<extra></extra>",
         "legendgroup": "USA",
         "line": {
          "color": "#636efa",
          "dash": "solid"
         },
         "marker": {
          "symbol": "circle"
         },
         "mode": "lines",
         "name": "USA",
         "orientation": "v",
         "showlegend": true,
         "type": "scatter",
         "x": [
          2000,
          2001,
          2002,
          2003,
          2004,
          2005,
          2006,
          2007,
          2008,
          2009,
          2010,
          2011,
          2012,
          2013,
          2014,
          2015,
          2016,
          2017,
          2018,
          2019,
          2020,
          2021,
          2022,
          2023
         ],
         "xaxis": "x",
         "y": [
          20.87,
          22.01,
          21.17,
          20.55,
          21.43,
          21.34,
          21.26,
          20.96,
          20.66,
          20.38,
          21.86,
          21.47,
          21.9,
          21.17,
          21.49,
          20.72,
          20.4,
          22.18,
          22.24,
          21.52,
          22.14,
          21.73,
          20.38,
          21.17
         ],
         "yaxis": "y"
        },
        {
         "hovertemplate": "Country=Russia<br>Year=%{x}<br>GDP (in Trillions USD)=%{y}<extra></extra>",
         "legendgroup": "Russia",
         "line": {
          "color": "#EF553B",
          "dash": "solid"
         },
         "marker": {
          "symbol": "circle"
         },
         "mode": "lines",
         "name": "Russia",
         "orientation": "v",
         "showlegend": true,
         "type": "scatter",
         "x": [
          2000,
          2001,
          2002,
          2003,
          2004,
          2005,
          2006,
          2007,
          2008,
          2009,
          2010,
          2011,
          2012,
          2013,
          2014,
          2015,
          2016,
          2017,
          2018,
          2019,
          2020,
          2021,
          2022,
          2023
         ],
         "xaxis": "x",
         "y": [
          1.64,
          1.66,
          1.58,
          1.6,
          1.7,
          1.7,
          1.64,
          1.56,
          1.57,
          1.62,
          1.63,
          1.64,
          1.63,
          1.56,
          1.57,
          1.63,
          1.62,
          1.64,
          1.58,
          1.59,
          1.67,
          1.67,
          1.56,
          1.64
         ],
         "yaxis": "y"
        },
        {
         "hovertemplate": "Country=Canada<br>Year=%{x}<br>GDP (in Trillions USD)=%{y}<extra></extra>",
         "legendgroup": "Canada",
         "line": {
          "color": "#00cc96",
          "dash": "solid"
         },
         "marker": {
          "symbol": "circle"
         },
         "mode": "lines",
         "name": "Canada",
         "orientation": "v",
         "showlegend": true,
         "type": "scatter",
         "x": [
          2000,
          2001,
          2002,
          2003,
          2004,
          2005,
          2006,
          2007,
          2008,
          2009,
          2010,
          2011,
          2012,
          2013,
          2014,
          2015,
          2016,
          2017,
          2018,
          2019,
          2020,
          2021,
          2022,
          2023
         ],
         "xaxis": "x",
         "y": [
          1.65,
          1.72,
          1.79,
          1.8,
          1.8,
          1.81,
          1.67,
          1.82,
          1.67,
          1.75,
          1.82,
          1.74,
          1.8,
          1.79,
          1.74,
          1.75,
          1.71,
          1.75,
          1.66,
          1.81,
          1.67,
          1.71,
          1.75,
          1.73
         ],
         "yaxis": "y"
        },
        {
         "hovertemplate": "Country=China<br>Year=%{x}<br>GDP (in Trillions USD)=%{y}<extra></extra>",
         "legendgroup": "China",
         "line": {
          "color": "#ab63fa",
          "dash": "solid"
         },
         "marker": {
          "symbol": "circle"
         },
         "mode": "lines",
         "name": "China",
         "orientation": "v",
         "showlegend": true,
         "type": "scatter",
         "x": [
          2000,
          2001,
          2002,
          2003,
          2004,
          2005,
          2006,
          2007,
          2008,
          2009,
          2010,
          2011,
          2012,
          2013,
          2014,
          2015,
          2016,
          2017,
          2018,
          2019,
          2020,
          2021,
          2022,
          2023
         ],
         "xaxis": "x",
         "y": [
          13.64,
          14,
          13.97,
          13.71,
          14.11,
          14.67,
          14.76,
          13.85,
          14.71,
          14.3,
          14.87,
          14.66,
          13.97,
          14.44,
          14.24,
          14.02,
          14.34,
          14.51,
          14.23,
          14.77,
          14.15,
          14.88,
          13.92,
          13.72
         ],
         "yaxis": "y"
        },
        {
         "hovertemplate": "Country=India<br>Year=%{x}<br>GDP (in Trillions USD)=%{y}<extra></extra>",
         "legendgroup": "India",
         "line": {
          "color": "#FFA15A",
          "dash": "solid"
         },
         "marker": {
          "symbol": "circle"
         },
         "mode": "lines",
         "name": "India",
         "orientation": "v",
         "showlegend": true,
         "type": "scatter",
         "x": [
          2000,
          2001,
          2002,
          2003,
          2004,
          2005,
          2006,
          2007,
          2008,
          2009,
          2010,
          2011,
          2012,
          2013,
          2014,
          2015,
          2016,
          2017,
          2018,
          2019,
          2020,
          2021,
          2022,
          2023
         ],
         "xaxis": "x",
         "y": [
          2.98,
          3,
          2.86,
          2.93,
          2.87,
          2.9,
          2.81,
          2.78,
          2.85,
          2.81,
          2.86,
          2.81,
          2.98,
          2.96,
          2.73,
          2.84,
          2.97,
          2.93,
          2.84,
          2.92,
          2.76,
          2.82,
          2.76,
          2.79
         ],
         "yaxis": "y"
        },
        {
         "hovertemplate": "Country=Australia<br>Year=%{x}<br>GDP (in Trillions USD)=%{y}<extra></extra>",
         "legendgroup": "Australia",
         "line": {
          "color": "#19d3f3",
          "dash": "solid"
         },
         "marker": {
          "symbol": "circle"
         },
         "mode": "lines",
         "name": "Australia",
         "orientation": "v",
         "showlegend": true,
         "type": "scatter",
         "x": [
          2000,
          2001,
          2002,
          2003,
          2004,
          2005,
          2006,
          2007,
          2008,
          2009,
          2010,
          2011,
          2012,
          2013,
          2014,
          2015,
          2016,
          2017,
          2018,
          2019,
          2020,
          2021,
          2022,
          2023
         ],
         "xaxis": "x",
         "y": [
          1.38,
          1.34,
          1.36,
          1.37,
          1.36,
          1.29,
          1.27,
          1.33,
          1.34,
          1.37,
          1.35,
          1.33,
          1.29,
          1.3,
          1.32,
          1.34,
          1.29,
          1.4,
          1.3,
          1.39,
          1.27,
          1.32,
          1.29,
          1.27
         ],
         "yaxis": "y"
        }
       ],
       "layout": {
        "legend": {
         "title": {
          "text": "Country"
         },
         "tracegroupgap": 0
        },
        "template": {
         "data": {
          "bar": [
           {
            "error_x": {
             "color": "#2a3f5f"
            },
            "error_y": {
             "color": "#2a3f5f"
            },
            "marker": {
             "line": {
              "color": "#E5ECF6",
              "width": 0.5
             },
             "pattern": {
              "fillmode": "overlay",
              "size": 10,
              "solidity": 0.2
             }
            },
            "type": "bar"
           }
          ],
          "barpolar": [
           {
            "marker": {
             "line": {
              "color": "#E5ECF6",
              "width": 0.5
             },
             "pattern": {
              "fillmode": "overlay",
              "size": 10,
              "solidity": 0.2
             }
            },
            "type": "barpolar"
           }
          ],
          "carpet": [
           {
            "aaxis": {
             "endlinecolor": "#2a3f5f",
             "gridcolor": "white",
             "linecolor": "white",
             "minorgridcolor": "white",
             "startlinecolor": "#2a3f5f"
            },
            "baxis": {
             "endlinecolor": "#2a3f5f",
             "gridcolor": "white",
             "linecolor": "white",
             "minorgridcolor": "white",
             "startlinecolor": "#2a3f5f"
            },
            "type": "carpet"
           }
          ],
          "choropleth": [
           {
            "colorbar": {
             "outlinewidth": 0,
             "ticks": ""
            },
            "type": "choropleth"
           }
          ],
          "contour": [
           {
            "colorbar": {
             "outlinewidth": 0,
             "ticks": ""
            },
            "colorscale": [
             [
              0,
              "#0d0887"
             ],
             [
              0.1111111111111111,
              "#46039f"
             ],
             [
              0.2222222222222222,
              "#7201a8"
             ],
             [
              0.3333333333333333,
              "#9c179e"
             ],
             [
              0.4444444444444444,
              "#bd3786"
             ],
             [
              0.5555555555555556,
              "#d8576b"
             ],
             [
              0.6666666666666666,
              "#ed7953"
             ],
             [
              0.7777777777777778,
              "#fb9f3a"
             ],
             [
              0.8888888888888888,
              "#fdca26"
             ],
             [
              1,
              "#f0f921"
             ]
            ],
            "type": "contour"
           }
          ],
          "contourcarpet": [
           {
            "colorbar": {
             "outlinewidth": 0,
             "ticks": ""
            },
            "type": "contourcarpet"
           }
          ],
          "heatmap": [
           {
            "colorbar": {
             "outlinewidth": 0,
             "ticks": ""
            },
            "colorscale": [
             [
              0,
              "#0d0887"
             ],
             [
              0.1111111111111111,
              "#46039f"
             ],
             [
              0.2222222222222222,
              "#7201a8"
             ],
             [
              0.3333333333333333,
              "#9c179e"
             ],
             [
              0.4444444444444444,
              "#bd3786"
             ],
             [
              0.5555555555555556,
              "#d8576b"
             ],
             [
              0.6666666666666666,
              "#ed7953"
             ],
             [
              0.7777777777777778,
              "#fb9f3a"
             ],
             [
              0.8888888888888888,
              "#fdca26"
             ],
             [
              1,
              "#f0f921"
             ]
            ],
            "type": "heatmap"
           }
          ],
          "heatmapgl": [
           {
            "colorbar": {
             "outlinewidth": 0,
             "ticks": ""
            },
            "colorscale": [
             [
              0,
              "#0d0887"
             ],
             [
              0.1111111111111111,
              "#46039f"
             ],
             [
              0.2222222222222222,
              "#7201a8"
             ],
             [
              0.3333333333333333,
              "#9c179e"
             ],
             [
              0.4444444444444444,
              "#bd3786"
             ],
             [
              0.5555555555555556,
              "#d8576b"
             ],
             [
              0.6666666666666666,
              "#ed7953"
             ],
             [
              0.7777777777777778,
              "#fb9f3a"
             ],
             [
              0.8888888888888888,
              "#fdca26"
             ],
             [
              1,
              "#f0f921"
             ]
            ],
            "type": "heatmapgl"
           }
          ],
          "histogram": [
           {
            "marker": {
             "pattern": {
              "fillmode": "overlay",
              "size": 10,
              "solidity": 0.2
             }
            },
            "type": "histogram"
           }
          ],
          "histogram2d": [
           {
            "colorbar": {
             "outlinewidth": 0,
             "ticks": ""
            },
            "colorscale": [
             [
              0,
              "#0d0887"
             ],
             [
              0.1111111111111111,
              "#46039f"
             ],
             [
              0.2222222222222222,
              "#7201a8"
             ],
             [
              0.3333333333333333,
              "#9c179e"
             ],
             [
              0.4444444444444444,
              "#bd3786"
             ],
             [
              0.5555555555555556,
              "#d8576b"
             ],
             [
              0.6666666666666666,
              "#ed7953"
             ],
             [
              0.7777777777777778,
              "#fb9f3a"
             ],
             [
              0.8888888888888888,
              "#fdca26"
             ],
             [
              1,
              "#f0f921"
             ]
            ],
            "type": "histogram2d"
           }
          ],
          "histogram2dcontour": [
           {
            "colorbar": {
             "outlinewidth": 0,
             "ticks": ""
            },
            "colorscale": [
             [
              0,
              "#0d0887"
             ],
             [
              0.1111111111111111,
              "#46039f"
             ],
             [
              0.2222222222222222,
              "#7201a8"
             ],
             [
              0.3333333333333333,
              "#9c179e"
             ],
             [
              0.4444444444444444,
              "#bd3786"
             ],
             [
              0.5555555555555556,
              "#d8576b"
             ],
             [
              0.6666666666666666,
              "#ed7953"
             ],
             [
              0.7777777777777778,
              "#fb9f3a"
             ],
             [
              0.8888888888888888,
              "#fdca26"
             ],
             [
              1,
              "#f0f921"
             ]
            ],
            "type": "histogram2dcontour"
           }
          ],
          "mesh3d": [
           {
            "colorbar": {
             "outlinewidth": 0,
             "ticks": ""
            },
            "type": "mesh3d"
           }
          ],
          "parcoords": [
           {
            "line": {
             "colorbar": {
              "outlinewidth": 0,
              "ticks": ""
             }
            },
            "type": "parcoords"
           }
          ],
          "pie": [
           {
            "automargin": true,
            "type": "pie"
           }
          ],
          "scatter": [
           {
            "fillpattern": {
             "fillmode": "overlay",
             "size": 10,
             "solidity": 0.2
            },
            "type": "scatter"
           }
          ],
          "scatter3d": [
           {
            "line": {
             "colorbar": {
              "outlinewidth": 0,
              "ticks": ""
             }
            },
            "marker": {
             "colorbar": {
              "outlinewidth": 0,
              "ticks": ""
             }
            },
            "type": "scatter3d"
           }
          ],
          "scattercarpet": [
           {
            "marker": {
             "colorbar": {
              "outlinewidth": 0,
              "ticks": ""
             }
            },
            "type": "scattercarpet"
           }
          ],
          "scattergeo": [
           {
            "marker": {
             "colorbar": {
              "outlinewidth": 0,
              "ticks": ""
             }
            },
            "type": "scattergeo"
           }
          ],
          "scattergl": [
           {
            "marker": {
             "colorbar": {
              "outlinewidth": 0,
              "ticks": ""
             }
            },
            "type": "scattergl"
           }
          ],
          "scattermapbox": [
           {
            "marker": {
             "colorbar": {
              "outlinewidth": 0,
              "ticks": ""
             }
            },
            "type": "scattermapbox"
           }
          ],
          "scatterpolar": [
           {
            "marker": {
             "colorbar": {
              "outlinewidth": 0,
              "ticks": ""
             }
            },
            "type": "scatterpolar"
           }
          ],
          "scatterpolargl": [
           {
            "marker": {
             "colorbar": {
              "outlinewidth": 0,
              "ticks": ""
             }
            },
            "type": "scatterpolargl"
           }
          ],
          "scatterternary": [
           {
            "marker": {
             "colorbar": {
              "outlinewidth": 0,
              "ticks": ""
             }
            },
            "type": "scatterternary"
           }
          ],
          "surface": [
           {
            "colorbar": {
             "outlinewidth": 0,
             "ticks": ""
            },
            "colorscale": [
             [
              0,
              "#0d0887"
             ],
             [
              0.1111111111111111,
              "#46039f"
             ],
             [
              0.2222222222222222,
              "#7201a8"
             ],
             [
              0.3333333333333333,
              "#9c179e"
             ],
             [
              0.4444444444444444,
              "#bd3786"
             ],
             [
              0.5555555555555556,
              "#d8576b"
             ],
             [
              0.6666666666666666,
              "#ed7953"
             ],
             [
              0.7777777777777778,
              "#fb9f3a"
             ],
             [
              0.8888888888888888,
              "#fdca26"
             ],
             [
              1,
              "#f0f921"
             ]
            ],
            "type": "surface"
           }
          ],
          "table": [
           {
            "cells": {
             "fill": {
              "color": "#EBF0F8"
             },
             "line": {
              "color": "white"
             }
            },
            "header": {
             "fill": {
              "color": "#C8D4E3"
             },
             "line": {
              "color": "white"
             }
            },
            "type": "table"
           }
          ]
         },
         "layout": {
          "annotationdefaults": {
           "arrowcolor": "#2a3f5f",
           "arrowhead": 0,
           "arrowwidth": 1
          },
          "autotypenumbers": "strict",
          "coloraxis": {
           "colorbar": {
            "outlinewidth": 0,
            "ticks": ""
           }
          },
          "colorscale": {
           "diverging": [
            [
             0,
             "#8e0152"
            ],
            [
             0.1,
             "#c51b7d"
            ],
            [
             0.2,
             "#de77ae"
            ],
            [
             0.3,
             "#f1b6da"
            ],
            [
             0.4,
             "#fde0ef"
            ],
            [
             0.5,
             "#f7f7f7"
            ],
            [
             0.6,
             "#e6f5d0"
            ],
            [
             0.7,
             "#b8e186"
            ],
            [
             0.8,
             "#7fbc41"
            ],
            [
             0.9,
             "#4d9221"
            ],
            [
             1,
             "#276419"
            ]
           ],
           "sequential": [
            [
             0,
             "#0d0887"
            ],
            [
             0.1111111111111111,
             "#46039f"
            ],
            [
             0.2222222222222222,
             "#7201a8"
            ],
            [
             0.3333333333333333,
             "#9c179e"
            ],
            [
             0.4444444444444444,
             "#bd3786"
            ],
            [
             0.5555555555555556,
             "#d8576b"
            ],
            [
             0.6666666666666666,
             "#ed7953"
            ],
            [
             0.7777777777777778,
             "#fb9f3a"
            ],
            [
             0.8888888888888888,
             "#fdca26"
            ],
            [
             1,
             "#f0f921"
            ]
           ],
           "sequentialminus": [
            [
             0,
             "#0d0887"
            ],
            [
             0.1111111111111111,
             "#46039f"
            ],
            [
             0.2222222222222222,
             "#7201a8"
            ],
            [
             0.3333333333333333,
             "#9c179e"
            ],
            [
             0.4444444444444444,
             "#bd3786"
            ],
            [
             0.5555555555555556,
             "#d8576b"
            ],
            [
             0.6666666666666666,
             "#ed7953"
            ],
            [
             0.7777777777777778,
             "#fb9f3a"
            ],
            [
             0.8888888888888888,
             "#fdca26"
            ],
            [
             1,
             "#f0f921"
            ]
           ]
          },
          "colorway": [
           "#636efa",
           "#EF553B",
           "#00cc96",
           "#ab63fa",
           "#FFA15A",
           "#19d3f3",
           "#FF6692",
           "#B6E880",
           "#FF97FF",
           "#FECB52"
          ],
          "font": {
           "color": "#2a3f5f"
          },
          "geo": {
           "bgcolor": "white",
           "lakecolor": "white",
           "landcolor": "#E5ECF6",
           "showlakes": true,
           "showland": true,
           "subunitcolor": "white"
          },
          "hoverlabel": {
           "align": "left"
          },
          "hovermode": "closest",
          "mapbox": {
           "style": "light"
          },
          "paper_bgcolor": "white",
          "plot_bgcolor": "#E5ECF6",
          "polar": {
           "angularaxis": {
            "gridcolor": "white",
            "linecolor": "white",
            "ticks": ""
           },
           "bgcolor": "#E5ECF6",
           "radialaxis": {
            "gridcolor": "white",
            "linecolor": "white",
            "ticks": ""
           }
          },
          "scene": {
           "xaxis": {
            "backgroundcolor": "#E5ECF6",
            "gridcolor": "white",
            "gridwidth": 2,
            "linecolor": "white",
            "showbackground": true,
            "ticks": "",
            "zerolinecolor": "white"
           },
           "yaxis": {
            "backgroundcolor": "#E5ECF6",
            "gridcolor": "white",
            "gridwidth": 2,
            "linecolor": "white",
            "showbackground": true,
            "ticks": "",
            "zerolinecolor": "white"
           },
           "zaxis": {
            "backgroundcolor": "#E5ECF6",
            "gridcolor": "white",
            "gridwidth": 2,
            "linecolor": "white",
            "showbackground": true,
            "ticks": "",
            "zerolinecolor": "white"
           }
          },
          "shapedefaults": {
           "line": {
            "color": "#2a3f5f"
           }
          },
          "ternary": {
           "aaxis": {
            "gridcolor": "white",
            "linecolor": "white",
            "ticks": ""
           },
           "baxis": {
            "gridcolor": "white",
            "linecolor": "white",
            "ticks": ""
           },
           "bgcolor": "#E5ECF6",
           "caxis": {
            "gridcolor": "white",
            "linecolor": "white",
            "ticks": ""
           }
          },
          "title": {
           "x": 0.05
          },
          "xaxis": {
           "automargin": true,
           "gridcolor": "white",
           "linecolor": "white",
           "ticks": "",
           "title": {
            "standoff": 15
           },
           "zerolinecolor": "white",
           "zerolinewidth": 2
          },
          "yaxis": {
           "automargin": true,
           "gridcolor": "white",
           "linecolor": "white",
           "ticks": "",
           "title": {
            "standoff": 15
           },
           "zerolinecolor": "white",
           "zerolinewidth": 2
          }
         }
        },
        "title": {
         "text": "GDP Over the Years by Country"
        },
        "xaxis": {
         "anchor": "y",
         "domain": [
          0,
          1
         ],
         "title": {
          "text": "Year"
         }
        },
        "yaxis": {
         "anchor": "x",
         "domain": [
          0,
          1
         ],
         "title": {
          "text": "GDP (in Trillions USD)"
         }
        }
       }
      }
     },
     "metadata": {},
     "output_type": "display_data"
    }
   ],
   "source": [
    "fig = px.line(df, x='Year', y='GDP (in Trillions USD)', color='Country', title='GDP Over the Years by Country')\n",
    "fig.show()"
   ]
  },
  {
   "cell_type": "code",
   "execution_count": 13,
   "metadata": {},
   "outputs": [
    {
     "data": {
      "application/vnd.plotly.v1+json": {
       "config": {
        "plotlyServerURL": "https://plot.ly"
       },
       "data": [
        {
         "hovertemplate": "Country=Australia<br>Year=%{x}<br>GDP per Capita (in USD)=%{y}<extra></extra>",
         "legendgroup": "Australia",
         "line": {
          "color": "#636efa",
          "dash": "solid"
         },
         "marker": {
          "symbol": "circle"
         },
         "mode": "lines+markers",
         "name": "Australia",
         "orientation": "v",
         "showlegend": true,
         "type": "scatter",
         "x": [
          2000,
          2001,
          2002,
          2003,
          2004,
          2005,
          2006,
          2007,
          2008,
          2009,
          2010,
          2011,
          2012,
          2013,
          2014,
          2015,
          2016,
          2017,
          2018,
          2019,
          2020,
          2021,
          2022,
          2023
         ],
         "xaxis": "x4",
         "y": [
          51039,
          53901,
          51145,
          53954,
          55544,
          54537,
          50668,
          51251,
          52523,
          54007,
          50880,
          50615,
          51728,
          53795,
          52046,
          54908,
          54749,
          52841,
          53689,
          51410,
          52311,
          50827,
          52205,
          51304
         ],
         "yaxis": "y4"
        },
        {
         "hovertemplate": "Country=Canada<br>Year=%{x}<br>GDP per Capita (in USD)=%{y}<extra></extra>",
         "legendgroup": "Canada",
         "line": {
          "color": "#EF553B",
          "dash": "solid"
         },
         "marker": {
          "symbol": "circle"
         },
         "mode": "lines+markers",
         "name": "Canada",
         "orientation": "v",
         "showlegend": true,
         "type": "scatter",
         "x": [
          2000,
          2001,
          2002,
          2003,
          2004,
          2005,
          2006,
          2007,
          2008,
          2009,
          2010,
          2011,
          2012,
          2013,
          2014,
          2015,
          2016,
          2017,
          2018,
          2019,
          2020,
          2021,
          2022,
          2023
         ],
         "xaxis": "x5",
         "y": [
          47932,
          45034,
          47932,
          48208,
          45126,
          45540,
          45218,
          44712,
          47426,
          44160,
          46506,
          47840,
          44574,
          45448,
          44574,
          45356,
          46874,
          46782,
          43792,
          44896,
          43700,
          44160,
          45678,
          44804
         ],
         "yaxis": "y5"
        },
        {
         "hovertemplate": "Country=China<br>Year=%{x}<br>GDP per Capita (in USD)=%{y}<extra></extra>",
         "legendgroup": "China",
         "line": {
          "color": "#00cc96",
          "dash": "solid"
         },
         "marker": {
          "symbol": "circle"
         },
         "mode": "lines+markers",
         "name": "China",
         "orientation": "v",
         "showlegend": true,
         "type": "scatter",
         "x": [
          2000,
          2001,
          2002,
          2003,
          2004,
          2005,
          2006,
          2007,
          2008,
          2009,
          2010,
          2011,
          2012,
          2013,
          2014,
          2015,
          2016,
          2017,
          2018,
          2019,
          2020,
          2021,
          2022,
          2023
         ],
         "xaxis": "x6",
         "y": [
          10060,
          10390,
          9870,
          9900,
          10210,
          10200,
          9830,
          10290,
          9790,
          9770,
          10470,
          10400,
          9980,
          10360,
          9950,
          10120,
          9520,
          10150,
          9540,
          9910,
          9770,
          10190,
          9540,
          9870
         ],
         "yaxis": "y6"
        },
        {
         "hovertemplate": "Country=India<br>Year=%{x}<br>GDP per Capita (in USD)=%{y}<extra></extra>",
         "legendgroup": "India",
         "line": {
          "color": "#ab63fa",
          "dash": "solid"
         },
         "marker": {
          "symbol": "circle"
         },
         "mode": "lines+markers",
         "name": "India",
         "orientation": "v",
         "showlegend": true,
         "type": "scatter",
         "x": [
          2000,
          2001,
          2002,
          2003,
          2004,
          2005,
          2006,
          2007,
          2008,
          2009,
          2010,
          2011,
          2012,
          2013,
          2014,
          2015,
          2016,
          2017,
          2018,
          2019,
          2020,
          2021,
          2022,
          2023
         ],
         "xaxis": "x",
         "y": [
          2102.1,
          2135.7,
          2009.7,
          2129.4,
          2081.1,
          2163,
          2076.9,
          2179.8,
          2018.1,
          2190.3,
          2083.2,
          2158.8,
          2127.3,
          2106.3,
          2163,
          2202.9,
          2062.2,
          2016,
          2024.4,
          2146.2,
          2058,
          2198.7,
          2037,
          2070.6
         ],
         "yaxis": "y"
        },
        {
         "hovertemplate": "Country=Russia<br>Year=%{x}<br>GDP per Capita (in USD)=%{y}<extra></extra>",
         "legendgroup": "Russia",
         "line": {
          "color": "#FFA15A",
          "dash": "solid"
         },
         "marker": {
          "symbol": "circle"
         },
         "mode": "lines+markers",
         "name": "Russia",
         "orientation": "v",
         "showlegend": true,
         "type": "scatter",
         "x": [
          2000,
          2001,
          2002,
          2003,
          2004,
          2005,
          2006,
          2007,
          2008,
          2009,
          2010,
          2011,
          2012,
          2013,
          2014,
          2015,
          2016,
          2017,
          2018,
          2019,
          2020,
          2021,
          2022,
          2023
         ],
         "xaxis": "x2",
         "y": [
          10923,
          10890,
          11132,
          11297,
          10780,
          10868,
          10494,
          10692,
          10472,
          10758,
          10670,
          10593,
          10549,
          10934,
          11319,
          11000,
          11154,
          10637,
          10461,
          10626,
          11396,
          11341,
          10857,
          10978
         ],
         "yaxis": "y2"
        },
        {
         "hovertemplate": "Country=USA<br>Year=%{x}<br>GDP per Capita (in USD)=%{y}<extra></extra>",
         "legendgroup": "USA",
         "line": {
          "color": "#19d3f3",
          "dash": "solid"
         },
         "marker": {
          "symbol": "circle"
         },
         "mode": "lines+markers",
         "name": "USA",
         "orientation": "v",
         "showlegend": true,
         "type": "scatter",
         "x": [
          2000,
          2001,
          2002,
          2003,
          2004,
          2005,
          2006,
          2007,
          2008,
          2009,
          2010,
          2011,
          2012,
          2013,
          2014,
          2015,
          2016,
          2017,
          2018,
          2019,
          2020,
          2021,
          2022,
          2023
         ],
         "xaxis": "x3",
         "y": [
          65455,
          66365,
          67470,
          62010,
          67665,
          66235,
          62465,
          66235,
          66625,
          67600,
          64220,
          64220,
          66105,
          63830,
          68120,
          64870,
          67990,
          67405,
          66300,
          63375,
          62205,
          65390,
          66105,
          63245
         ],
         "yaxis": "y3"
        }
       ],
       "layout": {
        "annotations": [
         {
          "font": {},
          "showarrow": false,
          "text": "Country=India",
          "x": 0.15999999999999998,
          "xanchor": "center",
          "xref": "paper",
          "y": 0.46499999999999997,
          "yanchor": "bottom",
          "yref": "paper"
         },
         {
          "font": {},
          "showarrow": false,
          "text": "Country=Russia",
          "x": 0.49999999999999994,
          "xanchor": "center",
          "xref": "paper",
          "y": 0.46499999999999997,
          "yanchor": "bottom",
          "yref": "paper"
         },
         {
          "font": {},
          "showarrow": false,
          "text": "Country=USA",
          "x": 0.8399999999999999,
          "xanchor": "center",
          "xref": "paper",
          "y": 0.46499999999999997,
          "yanchor": "bottom",
          "yref": "paper"
         },
         {
          "font": {},
          "showarrow": false,
          "text": "Country=Australia",
          "x": 0.15999999999999998,
          "xanchor": "center",
          "xref": "paper",
          "y": 0.9999999999999999,
          "yanchor": "bottom",
          "yref": "paper"
         },
         {
          "font": {},
          "showarrow": false,
          "text": "Country=Canada",
          "x": 0.49999999999999994,
          "xanchor": "center",
          "xref": "paper",
          "y": 0.9999999999999999,
          "yanchor": "bottom",
          "yref": "paper"
         },
         {
          "font": {},
          "showarrow": false,
          "text": "Country=China",
          "x": 0.8399999999999999,
          "xanchor": "center",
          "xref": "paper",
          "y": 0.9999999999999999,
          "yanchor": "bottom",
          "yref": "paper"
         }
        ],
        "height": 800,
        "legend": {
         "title": {
          "text": "Country"
         },
         "tracegroupgap": 0
        },
        "template": {
         "data": {
          "bar": [
           {
            "error_x": {
             "color": "#2a3f5f"
            },
            "error_y": {
             "color": "#2a3f5f"
            },
            "marker": {
             "line": {
              "color": "#E5ECF6",
              "width": 0.5
             },
             "pattern": {
              "fillmode": "overlay",
              "size": 10,
              "solidity": 0.2
             }
            },
            "type": "bar"
           }
          ],
          "barpolar": [
           {
            "marker": {
             "line": {
              "color": "#E5ECF6",
              "width": 0.5
             },
             "pattern": {
              "fillmode": "overlay",
              "size": 10,
              "solidity": 0.2
             }
            },
            "type": "barpolar"
           }
          ],
          "carpet": [
           {
            "aaxis": {
             "endlinecolor": "#2a3f5f",
             "gridcolor": "white",
             "linecolor": "white",
             "minorgridcolor": "white",
             "startlinecolor": "#2a3f5f"
            },
            "baxis": {
             "endlinecolor": "#2a3f5f",
             "gridcolor": "white",
             "linecolor": "white",
             "minorgridcolor": "white",
             "startlinecolor": "#2a3f5f"
            },
            "type": "carpet"
           }
          ],
          "choropleth": [
           {
            "colorbar": {
             "outlinewidth": 0,
             "ticks": ""
            },
            "type": "choropleth"
           }
          ],
          "contour": [
           {
            "colorbar": {
             "outlinewidth": 0,
             "ticks": ""
            },
            "colorscale": [
             [
              0,
              "#0d0887"
             ],
             [
              0.1111111111111111,
              "#46039f"
             ],
             [
              0.2222222222222222,
              "#7201a8"
             ],
             [
              0.3333333333333333,
              "#9c179e"
             ],
             [
              0.4444444444444444,
              "#bd3786"
             ],
             [
              0.5555555555555556,
              "#d8576b"
             ],
             [
              0.6666666666666666,
              "#ed7953"
             ],
             [
              0.7777777777777778,
              "#fb9f3a"
             ],
             [
              0.8888888888888888,
              "#fdca26"
             ],
             [
              1,
              "#f0f921"
             ]
            ],
            "type": "contour"
           }
          ],
          "contourcarpet": [
           {
            "colorbar": {
             "outlinewidth": 0,
             "ticks": ""
            },
            "type": "contourcarpet"
           }
          ],
          "heatmap": [
           {
            "colorbar": {
             "outlinewidth": 0,
             "ticks": ""
            },
            "colorscale": [
             [
              0,
              "#0d0887"
             ],
             [
              0.1111111111111111,
              "#46039f"
             ],
             [
              0.2222222222222222,
              "#7201a8"
             ],
             [
              0.3333333333333333,
              "#9c179e"
             ],
             [
              0.4444444444444444,
              "#bd3786"
             ],
             [
              0.5555555555555556,
              "#d8576b"
             ],
             [
              0.6666666666666666,
              "#ed7953"
             ],
             [
              0.7777777777777778,
              "#fb9f3a"
             ],
             [
              0.8888888888888888,
              "#fdca26"
             ],
             [
              1,
              "#f0f921"
             ]
            ],
            "type": "heatmap"
           }
          ],
          "heatmapgl": [
           {
            "colorbar": {
             "outlinewidth": 0,
             "ticks": ""
            },
            "colorscale": [
             [
              0,
              "#0d0887"
             ],
             [
              0.1111111111111111,
              "#46039f"
             ],
             [
              0.2222222222222222,
              "#7201a8"
             ],
             [
              0.3333333333333333,
              "#9c179e"
             ],
             [
              0.4444444444444444,
              "#bd3786"
             ],
             [
              0.5555555555555556,
              "#d8576b"
             ],
             [
              0.6666666666666666,
              "#ed7953"
             ],
             [
              0.7777777777777778,
              "#fb9f3a"
             ],
             [
              0.8888888888888888,
              "#fdca26"
             ],
             [
              1,
              "#f0f921"
             ]
            ],
            "type": "heatmapgl"
           }
          ],
          "histogram": [
           {
            "marker": {
             "pattern": {
              "fillmode": "overlay",
              "size": 10,
              "solidity": 0.2
             }
            },
            "type": "histogram"
           }
          ],
          "histogram2d": [
           {
            "colorbar": {
             "outlinewidth": 0,
             "ticks": ""
            },
            "colorscale": [
             [
              0,
              "#0d0887"
             ],
             [
              0.1111111111111111,
              "#46039f"
             ],
             [
              0.2222222222222222,
              "#7201a8"
             ],
             [
              0.3333333333333333,
              "#9c179e"
             ],
             [
              0.4444444444444444,
              "#bd3786"
             ],
             [
              0.5555555555555556,
              "#d8576b"
             ],
             [
              0.6666666666666666,
              "#ed7953"
             ],
             [
              0.7777777777777778,
              "#fb9f3a"
             ],
             [
              0.8888888888888888,
              "#fdca26"
             ],
             [
              1,
              "#f0f921"
             ]
            ],
            "type": "histogram2d"
           }
          ],
          "histogram2dcontour": [
           {
            "colorbar": {
             "outlinewidth": 0,
             "ticks": ""
            },
            "colorscale": [
             [
              0,
              "#0d0887"
             ],
             [
              0.1111111111111111,
              "#46039f"
             ],
             [
              0.2222222222222222,
              "#7201a8"
             ],
             [
              0.3333333333333333,
              "#9c179e"
             ],
             [
              0.4444444444444444,
              "#bd3786"
             ],
             [
              0.5555555555555556,
              "#d8576b"
             ],
             [
              0.6666666666666666,
              "#ed7953"
             ],
             [
              0.7777777777777778,
              "#fb9f3a"
             ],
             [
              0.8888888888888888,
              "#fdca26"
             ],
             [
              1,
              "#f0f921"
             ]
            ],
            "type": "histogram2dcontour"
           }
          ],
          "mesh3d": [
           {
            "colorbar": {
             "outlinewidth": 0,
             "ticks": ""
            },
            "type": "mesh3d"
           }
          ],
          "parcoords": [
           {
            "line": {
             "colorbar": {
              "outlinewidth": 0,
              "ticks": ""
             }
            },
            "type": "parcoords"
           }
          ],
          "pie": [
           {
            "automargin": true,
            "type": "pie"
           }
          ],
          "scatter": [
           {
            "fillpattern": {
             "fillmode": "overlay",
             "size": 10,
             "solidity": 0.2
            },
            "type": "scatter"
           }
          ],
          "scatter3d": [
           {
            "line": {
             "colorbar": {
              "outlinewidth": 0,
              "ticks": ""
             }
            },
            "marker": {
             "colorbar": {
              "outlinewidth": 0,
              "ticks": ""
             }
            },
            "type": "scatter3d"
           }
          ],
          "scattercarpet": [
           {
            "marker": {
             "colorbar": {
              "outlinewidth": 0,
              "ticks": ""
             }
            },
            "type": "scattercarpet"
           }
          ],
          "scattergeo": [
           {
            "marker": {
             "colorbar": {
              "outlinewidth": 0,
              "ticks": ""
             }
            },
            "type": "scattergeo"
           }
          ],
          "scattergl": [
           {
            "marker": {
             "colorbar": {
              "outlinewidth": 0,
              "ticks": ""
             }
            },
            "type": "scattergl"
           }
          ],
          "scattermapbox": [
           {
            "marker": {
             "colorbar": {
              "outlinewidth": 0,
              "ticks": ""
             }
            },
            "type": "scattermapbox"
           }
          ],
          "scatterpolar": [
           {
            "marker": {
             "colorbar": {
              "outlinewidth": 0,
              "ticks": ""
             }
            },
            "type": "scatterpolar"
           }
          ],
          "scatterpolargl": [
           {
            "marker": {
             "colorbar": {
              "outlinewidth": 0,
              "ticks": ""
             }
            },
            "type": "scatterpolargl"
           }
          ],
          "scatterternary": [
           {
            "marker": {
             "colorbar": {
              "outlinewidth": 0,
              "ticks": ""
             }
            },
            "type": "scatterternary"
           }
          ],
          "surface": [
           {
            "colorbar": {
             "outlinewidth": 0,
             "ticks": ""
            },
            "colorscale": [
             [
              0,
              "#0d0887"
             ],
             [
              0.1111111111111111,
              "#46039f"
             ],
             [
              0.2222222222222222,
              "#7201a8"
             ],
             [
              0.3333333333333333,
              "#9c179e"
             ],
             [
              0.4444444444444444,
              "#bd3786"
             ],
             [
              0.5555555555555556,
              "#d8576b"
             ],
             [
              0.6666666666666666,
              "#ed7953"
             ],
             [
              0.7777777777777778,
              "#fb9f3a"
             ],
             [
              0.8888888888888888,
              "#fdca26"
             ],
             [
              1,
              "#f0f921"
             ]
            ],
            "type": "surface"
           }
          ],
          "table": [
           {
            "cells": {
             "fill": {
              "color": "#EBF0F8"
             },
             "line": {
              "color": "white"
             }
            },
            "header": {
             "fill": {
              "color": "#C8D4E3"
             },
             "line": {
              "color": "white"
             }
            },
            "type": "table"
           }
          ]
         },
         "layout": {
          "annotationdefaults": {
           "arrowcolor": "#2a3f5f",
           "arrowhead": 0,
           "arrowwidth": 1
          },
          "autotypenumbers": "strict",
          "coloraxis": {
           "colorbar": {
            "outlinewidth": 0,
            "ticks": ""
           }
          },
          "colorscale": {
           "diverging": [
            [
             0,
             "#8e0152"
            ],
            [
             0.1,
             "#c51b7d"
            ],
            [
             0.2,
             "#de77ae"
            ],
            [
             0.3,
             "#f1b6da"
            ],
            [
             0.4,
             "#fde0ef"
            ],
            [
             0.5,
             "#f7f7f7"
            ],
            [
             0.6,
             "#e6f5d0"
            ],
            [
             0.7,
             "#b8e186"
            ],
            [
             0.8,
             "#7fbc41"
            ],
            [
             0.9,
             "#4d9221"
            ],
            [
             1,
             "#276419"
            ]
           ],
           "sequential": [
            [
             0,
             "#0d0887"
            ],
            [
             0.1111111111111111,
             "#46039f"
            ],
            [
             0.2222222222222222,
             "#7201a8"
            ],
            [
             0.3333333333333333,
             "#9c179e"
            ],
            [
             0.4444444444444444,
             "#bd3786"
            ],
            [
             0.5555555555555556,
             "#d8576b"
            ],
            [
             0.6666666666666666,
             "#ed7953"
            ],
            [
             0.7777777777777778,
             "#fb9f3a"
            ],
            [
             0.8888888888888888,
             "#fdca26"
            ],
            [
             1,
             "#f0f921"
            ]
           ],
           "sequentialminus": [
            [
             0,
             "#0d0887"
            ],
            [
             0.1111111111111111,
             "#46039f"
            ],
            [
             0.2222222222222222,
             "#7201a8"
            ],
            [
             0.3333333333333333,
             "#9c179e"
            ],
            [
             0.4444444444444444,
             "#bd3786"
            ],
            [
             0.5555555555555556,
             "#d8576b"
            ],
            [
             0.6666666666666666,
             "#ed7953"
            ],
            [
             0.7777777777777778,
             "#fb9f3a"
            ],
            [
             0.8888888888888888,
             "#fdca26"
            ],
            [
             1,
             "#f0f921"
            ]
           ]
          },
          "colorway": [
           "#636efa",
           "#EF553B",
           "#00cc96",
           "#ab63fa",
           "#FFA15A",
           "#19d3f3",
           "#FF6692",
           "#B6E880",
           "#FF97FF",
           "#FECB52"
          ],
          "font": {
           "color": "#2a3f5f"
          },
          "geo": {
           "bgcolor": "white",
           "lakecolor": "white",
           "landcolor": "#E5ECF6",
           "showlakes": true,
           "showland": true,
           "subunitcolor": "white"
          },
          "hoverlabel": {
           "align": "left"
          },
          "hovermode": "closest",
          "mapbox": {
           "style": "light"
          },
          "paper_bgcolor": "white",
          "plot_bgcolor": "#E5ECF6",
          "polar": {
           "angularaxis": {
            "gridcolor": "white",
            "linecolor": "white",
            "ticks": ""
           },
           "bgcolor": "#E5ECF6",
           "radialaxis": {
            "gridcolor": "white",
            "linecolor": "white",
            "ticks": ""
           }
          },
          "scene": {
           "xaxis": {
            "backgroundcolor": "#E5ECF6",
            "gridcolor": "white",
            "gridwidth": 2,
            "linecolor": "white",
            "showbackground": true,
            "ticks": "",
            "zerolinecolor": "white"
           },
           "yaxis": {
            "backgroundcolor": "#E5ECF6",
            "gridcolor": "white",
            "gridwidth": 2,
            "linecolor": "white",
            "showbackground": true,
            "ticks": "",
            "zerolinecolor": "white"
           },
           "zaxis": {
            "backgroundcolor": "#E5ECF6",
            "gridcolor": "white",
            "gridwidth": 2,
            "linecolor": "white",
            "showbackground": true,
            "ticks": "",
            "zerolinecolor": "white"
           }
          },
          "shapedefaults": {
           "line": {
            "color": "#2a3f5f"
           }
          },
          "ternary": {
           "aaxis": {
            "gridcolor": "white",
            "linecolor": "white",
            "ticks": ""
           },
           "baxis": {
            "gridcolor": "white",
            "linecolor": "white",
            "ticks": ""
           },
           "bgcolor": "#E5ECF6",
           "caxis": {
            "gridcolor": "white",
            "linecolor": "white",
            "ticks": ""
           }
          },
          "title": {
           "x": 0.05
          },
          "xaxis": {
           "automargin": true,
           "gridcolor": "white",
           "linecolor": "white",
           "ticks": "",
           "title": {
            "standoff": 15
           },
           "zerolinecolor": "white",
           "zerolinewidth": 2
          },
          "yaxis": {
           "automargin": true,
           "gridcolor": "white",
           "linecolor": "white",
           "ticks": "",
           "title": {
            "standoff": 15
           },
           "zerolinecolor": "white",
           "zerolinewidth": 2
          }
         }
        },
        "title": {
         "font": {
          "size": 20
         },
         "text": "GDP per Capita by Country Over Years"
        },
        "xaxis": {
         "anchor": "y",
         "domain": [
          0,
          0.31999999999999995
         ],
         "tickfont": {
          "size": 10
         },
         "title": {
          "font": {
           "size": 12
          },
          "text": "Year"
         }
        },
        "xaxis2": {
         "anchor": "y2",
         "domain": [
          0.33999999999999997,
          0.6599999999999999
         ],
         "matches": "x",
         "tickfont": {
          "size": 10
         },
         "title": {
          "font": {
           "size": 12
          },
          "text": "Year"
         }
        },
        "xaxis3": {
         "anchor": "y3",
         "domain": [
          0.6799999999999999,
          0.9999999999999999
         ],
         "matches": "x",
         "tickfont": {
          "size": 10
         },
         "title": {
          "font": {
           "size": 12
          },
          "text": "Year"
         }
        },
        "xaxis4": {
         "anchor": "y4",
         "domain": [
          0,
          0.31999999999999995
         ],
         "matches": "x",
         "showticklabels": false,
         "tickfont": {
          "size": 10
         },
         "title": {
          "font": {
           "size": 12
          }
         }
        },
        "xaxis5": {
         "anchor": "y5",
         "domain": [
          0.33999999999999997,
          0.6599999999999999
         ],
         "matches": "x",
         "showticklabels": false,
         "tickfont": {
          "size": 10
         },
         "title": {
          "font": {
           "size": 12
          }
         }
        },
        "xaxis6": {
         "anchor": "y6",
         "domain": [
          0.6799999999999999,
          0.9999999999999999
         ],
         "matches": "x",
         "showticklabels": false,
         "tickfont": {
          "size": 10
         },
         "title": {
          "font": {
           "size": 12
          }
         }
        },
        "yaxis": {
         "anchor": "x",
         "domain": [
          0,
          0.46499999999999997
         ],
         "tickfont": {
          "size": 10
         },
         "title": {
          "font": {
           "size": 12
          },
          "text": "GDP per Capita (in USD)"
         }
        },
        "yaxis2": {
         "anchor": "x2",
         "domain": [
          0,
          0.46499999999999997
         ],
         "matches": "y",
         "showticklabels": false,
         "tickfont": {
          "size": 10
         },
         "title": {
          "font": {
           "size": 12
          }
         }
        },
        "yaxis3": {
         "anchor": "x3",
         "domain": [
          0,
          0.46499999999999997
         ],
         "matches": "y",
         "showticklabels": false,
         "tickfont": {
          "size": 10
         },
         "title": {
          "font": {
           "size": 12
          }
         }
        },
        "yaxis4": {
         "anchor": "x4",
         "domain": [
          0.5349999999999999,
          0.9999999999999999
         ],
         "matches": "y",
         "tickfont": {
          "size": 10
         },
         "title": {
          "font": {
           "size": 12
          },
          "text": "GDP per Capita (in USD)"
         }
        },
        "yaxis5": {
         "anchor": "x5",
         "domain": [
          0.5349999999999999,
          0.9999999999999999
         ],
         "matches": "y",
         "showticklabels": false,
         "tickfont": {
          "size": 10
         },
         "title": {
          "font": {
           "size": 12
          }
         }
        },
        "yaxis6": {
         "anchor": "x6",
         "domain": [
          0.5349999999999999,
          0.9999999999999999
         ],
         "matches": "y",
         "showticklabels": false,
         "tickfont": {
          "size": 10
         },
         "title": {
          "font": {
           "size": 12
          }
         }
        }
       }
      }
     },
     "metadata": {},
     "output_type": "display_data"
    }
   ],
   "source": [
    "\n",
    "df_yearly_gdp = df.groupby(['Year', 'Country'], as_index=False)['GDP per Capita (in USD)'].mean()\n",
    "fig_facet = px.line(df_yearly_gdp, \n",
    "                    x='Year', \n",
    "                    y='GDP per Capita (in USD)', \n",
    "                    color='Country', \n",
    "                    facet_col='Country',  \n",
    "                    facet_col_wrap=3,  \n",
    "                    title='GDP per Capita by Country Over Years',\n",
    "                    markers=True)\n",
    "\n",
    "fig_facet.update_layout(\n",
    "    title_font=dict(size=20),  \n",
    "    height=800,  \n",
    "    xaxis_title='Year',\n",
    "    yaxis_title='GDP per Capita (in USD)')\n",
    "for axis in fig_facet.select_xaxes():\n",
    "    axis.update(title_font=dict(size=12), tickfont=dict(size=10))  \n",
    "for axis in fig_facet.select_yaxes():\n",
    "    axis.update(title_font=dict(size=12), tickfont=dict(size=10))  \n",
    "\n",
    "fig_facet.show()\n"
   ]
  },
  {
   "cell_type": "code",
   "execution_count": 14,
   "metadata": {},
   "outputs": [
    {
     "data": {
      "application/vnd.plotly.v1+json": {
       "config": {
        "plotlyServerURL": "https://plot.ly"
       },
       "data": [
        {
         "hovertemplate": "Country=USA<br>Year=%{x}<br>Population Growth Rate (%)=%{y}<extra></extra>",
         "legendgroup": "USA",
         "line": {
          "color": "#636efa",
          "dash": "solid"
         },
         "marker": {
          "symbol": "circle"
         },
         "mode": "lines",
         "name": "USA",
         "orientation": "v",
         "showlegend": true,
         "type": "scatter",
         "x": [
          2000,
          2001,
          2002,
          2003,
          2004,
          2005,
          2006,
          2007,
          2008,
          2009,
          2010,
          2011,
          2012,
          2013,
          2014,
          2015,
          2016,
          2017,
          2018,
          2019,
          2020,
          2021,
          2022,
          2023
         ],
         "xaxis": "x",
         "y": [
          0.58,
          0.62,
          0.57,
          0.62,
          0.59,
          0.62,
          0.62,
          0.61,
          0.58,
          0.57,
          0.61,
          0.62,
          0.63,
          0.6,
          0.61,
          0.6,
          0.57,
          0.61,
          0.6,
          0.61,
          0.58,
          0.62,
          0.62,
          0.59
         ],
         "yaxis": "y"
        },
        {
         "hovertemplate": "Country=Russia<br>Year=%{x}<br>Population Growth Rate (%)=%{y}<extra></extra>",
         "legendgroup": "Russia",
         "line": {
          "color": "#EF553B",
          "dash": "solid"
         },
         "marker": {
          "symbol": "circle"
         },
         "mode": "lines",
         "name": "Russia",
         "orientation": "v",
         "showlegend": true,
         "type": "scatter",
         "x": [
          2000,
          2001,
          2002,
          2003,
          2004,
          2005,
          2006,
          2007,
          2008,
          2009,
          2010,
          2011,
          2012,
          2013,
          2014,
          2015,
          2016,
          2017,
          2018,
          2019,
          2020,
          2021,
          2022,
          2023
         ],
         "xaxis": "x",
         "y": [
          0.1,
          0.1,
          0.1,
          0.1,
          0.1,
          0.1,
          0.1,
          0.1,
          0.1,
          0.1,
          0.1,
          0.1,
          0.1,
          0.1,
          0.1,
          0.1,
          0.1,
          0.1,
          0.1,
          0.1,
          0.1,
          0.1,
          0.1,
          0.1
         ],
         "yaxis": "y"
        },
        {
         "hovertemplate": "Country=Canada<br>Year=%{x}<br>Population Growth Rate (%)=%{y}<extra></extra>",
         "legendgroup": "Canada",
         "line": {
          "color": "#00cc96",
          "dash": "solid"
         },
         "marker": {
          "symbol": "circle"
         },
         "mode": "lines",
         "name": "Canada",
         "orientation": "v",
         "showlegend": true,
         "type": "scatter",
         "x": [
          2000,
          2001,
          2002,
          2003,
          2004,
          2005,
          2006,
          2007,
          2008,
          2009,
          2010,
          2011,
          2012,
          2013,
          2014,
          2015,
          2016,
          2017,
          2018,
          2019,
          2020,
          2021,
          2022,
          2023
         ],
         "xaxis": "x",
         "y": [
          0.9,
          0.93,
          0.95,
          0.91,
          0.91,
          0.89,
          0.87,
          0.88,
          0.92,
          0.92,
          0.87,
          0.94,
          0.9,
          0.91,
          0.86,
          0.9,
          0.91,
          0.87,
          0.91,
          0.87,
          0.88,
          0.87,
          0.94,
          0.93
         ],
         "yaxis": "y"
        },
        {
         "hovertemplate": "Country=China<br>Year=%{x}<br>Population Growth Rate (%)=%{y}<extra></extra>",
         "legendgroup": "China",
         "line": {
          "color": "#ab63fa",
          "dash": "solid"
         },
         "marker": {
          "symbol": "circle"
         },
         "mode": "lines",
         "name": "China",
         "orientation": "v",
         "showlegend": true,
         "type": "scatter",
         "x": [
          2000,
          2001,
          2002,
          2003,
          2004,
          2005,
          2006,
          2007,
          2008,
          2009,
          2010,
          2011,
          2012,
          2013,
          2014,
          2015,
          2016,
          2017,
          2018,
          2019,
          2020,
          2021,
          2022,
          2023
         ],
         "xaxis": "x",
         "y": [
          0.31,
          0.3,
          0.31,
          0.29,
          0.29,
          0.29,
          0.3,
          0.3,
          0.28,
          0.3,
          0.3,
          0.31,
          0.29,
          0.3,
          0.31,
          0.3,
          0.29,
          0.3,
          0.31,
          0.3,
          0.29,
          0.29,
          0.29,
          0.29
         ],
         "yaxis": "y"
        },
        {
         "hovertemplate": "Country=India<br>Year=%{x}<br>Population Growth Rate (%)=%{y}<extra></extra>",
         "legendgroup": "India",
         "line": {
          "color": "#FFA15A",
          "dash": "solid"
         },
         "marker": {
          "symbol": "circle"
         },
         "mode": "lines",
         "name": "India",
         "orientation": "v",
         "showlegend": true,
         "type": "scatter",
         "x": [
          2000,
          2001,
          2002,
          2003,
          2004,
          2005,
          2006,
          2007,
          2008,
          2009,
          2010,
          2011,
          2012,
          2013,
          2014,
          2015,
          2016,
          2017,
          2018,
          2019,
          2020,
          2021,
          2022,
          2023
         ],
         "xaxis": "x",
         "y": [
          1.04,
          0.97,
          1.03,
          0.95,
          0.98,
          1.05,
          1.04,
          1.03,
          1.01,
          1.03,
          0.98,
          1.02,
          1.02,
          1.01,
          0.97,
          0.99,
          1.04,
          0.96,
          0.98,
          0.96,
          0.99,
          0.96,
          1.04,
          1.03
         ],
         "yaxis": "y"
        },
        {
         "hovertemplate": "Country=Australia<br>Year=%{x}<br>Population Growth Rate (%)=%{y}<extra></extra>",
         "legendgroup": "Australia",
         "line": {
          "color": "#19d3f3",
          "dash": "solid"
         },
         "marker": {
          "symbol": "circle"
         },
         "mode": "lines",
         "name": "Australia",
         "orientation": "v",
         "showlegend": true,
         "type": "scatter",
         "x": [
          2000,
          2001,
          2002,
          2003,
          2004,
          2005,
          2006,
          2007,
          2008,
          2009,
          2010,
          2011,
          2012,
          2013,
          2014,
          2015,
          2016,
          2017,
          2018,
          2019,
          2020,
          2021,
          2022,
          2023
         ],
         "xaxis": "x",
         "y": [
          1.26,
          1.29,
          1.3,
          1.32,
          1.32,
          1.33,
          1.35,
          1.28,
          1.28,
          1.29,
          1.25,
          1.35,
          1.3,
          1.3,
          1.26,
          1.32,
          1.34,
          1.32,
          1.31,
          1.35,
          1.3,
          1.27,
          1.35,
          1.36
         ],
         "yaxis": "y"
        }
       ],
       "layout": {
        "legend": {
         "title": {
          "text": "Country"
         },
         "tracegroupgap": 0
        },
        "template": {
         "data": {
          "bar": [
           {
            "error_x": {
             "color": "#2a3f5f"
            },
            "error_y": {
             "color": "#2a3f5f"
            },
            "marker": {
             "line": {
              "color": "#E5ECF6",
              "width": 0.5
             },
             "pattern": {
              "fillmode": "overlay",
              "size": 10,
              "solidity": 0.2
             }
            },
            "type": "bar"
           }
          ],
          "barpolar": [
           {
            "marker": {
             "line": {
              "color": "#E5ECF6",
              "width": 0.5
             },
             "pattern": {
              "fillmode": "overlay",
              "size": 10,
              "solidity": 0.2
             }
            },
            "type": "barpolar"
           }
          ],
          "carpet": [
           {
            "aaxis": {
             "endlinecolor": "#2a3f5f",
             "gridcolor": "white",
             "linecolor": "white",
             "minorgridcolor": "white",
             "startlinecolor": "#2a3f5f"
            },
            "baxis": {
             "endlinecolor": "#2a3f5f",
             "gridcolor": "white",
             "linecolor": "white",
             "minorgridcolor": "white",
             "startlinecolor": "#2a3f5f"
            },
            "type": "carpet"
           }
          ],
          "choropleth": [
           {
            "colorbar": {
             "outlinewidth": 0,
             "ticks": ""
            },
            "type": "choropleth"
           }
          ],
          "contour": [
           {
            "colorbar": {
             "outlinewidth": 0,
             "ticks": ""
            },
            "colorscale": [
             [
              0,
              "#0d0887"
             ],
             [
              0.1111111111111111,
              "#46039f"
             ],
             [
              0.2222222222222222,
              "#7201a8"
             ],
             [
              0.3333333333333333,
              "#9c179e"
             ],
             [
              0.4444444444444444,
              "#bd3786"
             ],
             [
              0.5555555555555556,
              "#d8576b"
             ],
             [
              0.6666666666666666,
              "#ed7953"
             ],
             [
              0.7777777777777778,
              "#fb9f3a"
             ],
             [
              0.8888888888888888,
              "#fdca26"
             ],
             [
              1,
              "#f0f921"
             ]
            ],
            "type": "contour"
           }
          ],
          "contourcarpet": [
           {
            "colorbar": {
             "outlinewidth": 0,
             "ticks": ""
            },
            "type": "contourcarpet"
           }
          ],
          "heatmap": [
           {
            "colorbar": {
             "outlinewidth": 0,
             "ticks": ""
            },
            "colorscale": [
             [
              0,
              "#0d0887"
             ],
             [
              0.1111111111111111,
              "#46039f"
             ],
             [
              0.2222222222222222,
              "#7201a8"
             ],
             [
              0.3333333333333333,
              "#9c179e"
             ],
             [
              0.4444444444444444,
              "#bd3786"
             ],
             [
              0.5555555555555556,
              "#d8576b"
             ],
             [
              0.6666666666666666,
              "#ed7953"
             ],
             [
              0.7777777777777778,
              "#fb9f3a"
             ],
             [
              0.8888888888888888,
              "#fdca26"
             ],
             [
              1,
              "#f0f921"
             ]
            ],
            "type": "heatmap"
           }
          ],
          "heatmapgl": [
           {
            "colorbar": {
             "outlinewidth": 0,
             "ticks": ""
            },
            "colorscale": [
             [
              0,
              "#0d0887"
             ],
             [
              0.1111111111111111,
              "#46039f"
             ],
             [
              0.2222222222222222,
              "#7201a8"
             ],
             [
              0.3333333333333333,
              "#9c179e"
             ],
             [
              0.4444444444444444,
              "#bd3786"
             ],
             [
              0.5555555555555556,
              "#d8576b"
             ],
             [
              0.6666666666666666,
              "#ed7953"
             ],
             [
              0.7777777777777778,
              "#fb9f3a"
             ],
             [
              0.8888888888888888,
              "#fdca26"
             ],
             [
              1,
              "#f0f921"
             ]
            ],
            "type": "heatmapgl"
           }
          ],
          "histogram": [
           {
            "marker": {
             "pattern": {
              "fillmode": "overlay",
              "size": 10,
              "solidity": 0.2
             }
            },
            "type": "histogram"
           }
          ],
          "histogram2d": [
           {
            "colorbar": {
             "outlinewidth": 0,
             "ticks": ""
            },
            "colorscale": [
             [
              0,
              "#0d0887"
             ],
             [
              0.1111111111111111,
              "#46039f"
             ],
             [
              0.2222222222222222,
              "#7201a8"
             ],
             [
              0.3333333333333333,
              "#9c179e"
             ],
             [
              0.4444444444444444,
              "#bd3786"
             ],
             [
              0.5555555555555556,
              "#d8576b"
             ],
             [
              0.6666666666666666,
              "#ed7953"
             ],
             [
              0.7777777777777778,
              "#fb9f3a"
             ],
             [
              0.8888888888888888,
              "#fdca26"
             ],
             [
              1,
              "#f0f921"
             ]
            ],
            "type": "histogram2d"
           }
          ],
          "histogram2dcontour": [
           {
            "colorbar": {
             "outlinewidth": 0,
             "ticks": ""
            },
            "colorscale": [
             [
              0,
              "#0d0887"
             ],
             [
              0.1111111111111111,
              "#46039f"
             ],
             [
              0.2222222222222222,
              "#7201a8"
             ],
             [
              0.3333333333333333,
              "#9c179e"
             ],
             [
              0.4444444444444444,
              "#bd3786"
             ],
             [
              0.5555555555555556,
              "#d8576b"
             ],
             [
              0.6666666666666666,
              "#ed7953"
             ],
             [
              0.7777777777777778,
              "#fb9f3a"
             ],
             [
              0.8888888888888888,
              "#fdca26"
             ],
             [
              1,
              "#f0f921"
             ]
            ],
            "type": "histogram2dcontour"
           }
          ],
          "mesh3d": [
           {
            "colorbar": {
             "outlinewidth": 0,
             "ticks": ""
            },
            "type": "mesh3d"
           }
          ],
          "parcoords": [
           {
            "line": {
             "colorbar": {
              "outlinewidth": 0,
              "ticks": ""
             }
            },
            "type": "parcoords"
           }
          ],
          "pie": [
           {
            "automargin": true,
            "type": "pie"
           }
          ],
          "scatter": [
           {
            "fillpattern": {
             "fillmode": "overlay",
             "size": 10,
             "solidity": 0.2
            },
            "type": "scatter"
           }
          ],
          "scatter3d": [
           {
            "line": {
             "colorbar": {
              "outlinewidth": 0,
              "ticks": ""
             }
            },
            "marker": {
             "colorbar": {
              "outlinewidth": 0,
              "ticks": ""
             }
            },
            "type": "scatter3d"
           }
          ],
          "scattercarpet": [
           {
            "marker": {
             "colorbar": {
              "outlinewidth": 0,
              "ticks": ""
             }
            },
            "type": "scattercarpet"
           }
          ],
          "scattergeo": [
           {
            "marker": {
             "colorbar": {
              "outlinewidth": 0,
              "ticks": ""
             }
            },
            "type": "scattergeo"
           }
          ],
          "scattergl": [
           {
            "marker": {
             "colorbar": {
              "outlinewidth": 0,
              "ticks": ""
             }
            },
            "type": "scattergl"
           }
          ],
          "scattermapbox": [
           {
            "marker": {
             "colorbar": {
              "outlinewidth": 0,
              "ticks": ""
             }
            },
            "type": "scattermapbox"
           }
          ],
          "scatterpolar": [
           {
            "marker": {
             "colorbar": {
              "outlinewidth": 0,
              "ticks": ""
             }
            },
            "type": "scatterpolar"
           }
          ],
          "scatterpolargl": [
           {
            "marker": {
             "colorbar": {
              "outlinewidth": 0,
              "ticks": ""
             }
            },
            "type": "scatterpolargl"
           }
          ],
          "scatterternary": [
           {
            "marker": {
             "colorbar": {
              "outlinewidth": 0,
              "ticks": ""
             }
            },
            "type": "scatterternary"
           }
          ],
          "surface": [
           {
            "colorbar": {
             "outlinewidth": 0,
             "ticks": ""
            },
            "colorscale": [
             [
              0,
              "#0d0887"
             ],
             [
              0.1111111111111111,
              "#46039f"
             ],
             [
              0.2222222222222222,
              "#7201a8"
             ],
             [
              0.3333333333333333,
              "#9c179e"
             ],
             [
              0.4444444444444444,
              "#bd3786"
             ],
             [
              0.5555555555555556,
              "#d8576b"
             ],
             [
              0.6666666666666666,
              "#ed7953"
             ],
             [
              0.7777777777777778,
              "#fb9f3a"
             ],
             [
              0.8888888888888888,
              "#fdca26"
             ],
             [
              1,
              "#f0f921"
             ]
            ],
            "type": "surface"
           }
          ],
          "table": [
           {
            "cells": {
             "fill": {
              "color": "#EBF0F8"
             },
             "line": {
              "color": "white"
             }
            },
            "header": {
             "fill": {
              "color": "#C8D4E3"
             },
             "line": {
              "color": "white"
             }
            },
            "type": "table"
           }
          ]
         },
         "layout": {
          "annotationdefaults": {
           "arrowcolor": "#2a3f5f",
           "arrowhead": 0,
           "arrowwidth": 1
          },
          "autotypenumbers": "strict",
          "coloraxis": {
           "colorbar": {
            "outlinewidth": 0,
            "ticks": ""
           }
          },
          "colorscale": {
           "diverging": [
            [
             0,
             "#8e0152"
            ],
            [
             0.1,
             "#c51b7d"
            ],
            [
             0.2,
             "#de77ae"
            ],
            [
             0.3,
             "#f1b6da"
            ],
            [
             0.4,
             "#fde0ef"
            ],
            [
             0.5,
             "#f7f7f7"
            ],
            [
             0.6,
             "#e6f5d0"
            ],
            [
             0.7,
             "#b8e186"
            ],
            [
             0.8,
             "#7fbc41"
            ],
            [
             0.9,
             "#4d9221"
            ],
            [
             1,
             "#276419"
            ]
           ],
           "sequential": [
            [
             0,
             "#0d0887"
            ],
            [
             0.1111111111111111,
             "#46039f"
            ],
            [
             0.2222222222222222,
             "#7201a8"
            ],
            [
             0.3333333333333333,
             "#9c179e"
            ],
            [
             0.4444444444444444,
             "#bd3786"
            ],
            [
             0.5555555555555556,
             "#d8576b"
            ],
            [
             0.6666666666666666,
             "#ed7953"
            ],
            [
             0.7777777777777778,
             "#fb9f3a"
            ],
            [
             0.8888888888888888,
             "#fdca26"
            ],
            [
             1,
             "#f0f921"
            ]
           ],
           "sequentialminus": [
            [
             0,
             "#0d0887"
            ],
            [
             0.1111111111111111,
             "#46039f"
            ],
            [
             0.2222222222222222,
             "#7201a8"
            ],
            [
             0.3333333333333333,
             "#9c179e"
            ],
            [
             0.4444444444444444,
             "#bd3786"
            ],
            [
             0.5555555555555556,
             "#d8576b"
            ],
            [
             0.6666666666666666,
             "#ed7953"
            ],
            [
             0.7777777777777778,
             "#fb9f3a"
            ],
            [
             0.8888888888888888,
             "#fdca26"
            ],
            [
             1,
             "#f0f921"
            ]
           ]
          },
          "colorway": [
           "#636efa",
           "#EF553B",
           "#00cc96",
           "#ab63fa",
           "#FFA15A",
           "#19d3f3",
           "#FF6692",
           "#B6E880",
           "#FF97FF",
           "#FECB52"
          ],
          "font": {
           "color": "#2a3f5f"
          },
          "geo": {
           "bgcolor": "white",
           "lakecolor": "white",
           "landcolor": "#E5ECF6",
           "showlakes": true,
           "showland": true,
           "subunitcolor": "white"
          },
          "hoverlabel": {
           "align": "left"
          },
          "hovermode": "closest",
          "mapbox": {
           "style": "light"
          },
          "paper_bgcolor": "white",
          "plot_bgcolor": "#E5ECF6",
          "polar": {
           "angularaxis": {
            "gridcolor": "white",
            "linecolor": "white",
            "ticks": ""
           },
           "bgcolor": "#E5ECF6",
           "radialaxis": {
            "gridcolor": "white",
            "linecolor": "white",
            "ticks": ""
           }
          },
          "scene": {
           "xaxis": {
            "backgroundcolor": "#E5ECF6",
            "gridcolor": "white",
            "gridwidth": 2,
            "linecolor": "white",
            "showbackground": true,
            "ticks": "",
            "zerolinecolor": "white"
           },
           "yaxis": {
            "backgroundcolor": "#E5ECF6",
            "gridcolor": "white",
            "gridwidth": 2,
            "linecolor": "white",
            "showbackground": true,
            "ticks": "",
            "zerolinecolor": "white"
           },
           "zaxis": {
            "backgroundcolor": "#E5ECF6",
            "gridcolor": "white",
            "gridwidth": 2,
            "linecolor": "white",
            "showbackground": true,
            "ticks": "",
            "zerolinecolor": "white"
           }
          },
          "shapedefaults": {
           "line": {
            "color": "#2a3f5f"
           }
          },
          "ternary": {
           "aaxis": {
            "gridcolor": "white",
            "linecolor": "white",
            "ticks": ""
           },
           "baxis": {
            "gridcolor": "white",
            "linecolor": "white",
            "ticks": ""
           },
           "bgcolor": "#E5ECF6",
           "caxis": {
            "gridcolor": "white",
            "linecolor": "white",
            "ticks": ""
           }
          },
          "title": {
           "x": 0.05
          },
          "xaxis": {
           "automargin": true,
           "gridcolor": "white",
           "linecolor": "white",
           "ticks": "",
           "title": {
            "standoff": 15
           },
           "zerolinecolor": "white",
           "zerolinewidth": 2
          },
          "yaxis": {
           "automargin": true,
           "gridcolor": "white",
           "linecolor": "white",
           "ticks": "",
           "title": {
            "standoff": 15
           },
           "zerolinecolor": "white",
           "zerolinewidth": 2
          }
         }
        },
        "title": {
         "text": "Population Growth Rate Over Time by Country"
        },
        "xaxis": {
         "anchor": "y",
         "domain": [
          0,
          1
         ],
         "title": {
          "text": "Year"
         }
        },
        "yaxis": {
         "anchor": "x",
         "domain": [
          0,
          1
         ],
         "title": {
          "text": "Population Growth Rate (%)"
         }
        }
       }
      }
     },
     "metadata": {},
     "output_type": "display_data"
    }
   ],
   "source": [
    "fig = px.line(df, x='Year', y='Population Growth Rate (%)', color='Country', title='Population Growth Rate Over Time by Country')\n",
    "fig.show()"
   ]
  },
  {
   "cell_type": "code",
   "execution_count": 15,
   "metadata": {},
   "outputs": [
    {
     "data": {
      "application/vnd.plotly.v1+json": {
       "config": {
        "plotlyServerURL": "https://plot.ly"
       },
       "data": [
        {
         "alignmentgroup": "True",
         "hovertemplate": "Country=Australia<br>Year=%{x}<br>Military Expenditure (in Billion USD)=%{y}<extra></extra>",
         "legendgroup": "Australia",
         "marker": {
          "color": "#636efa",
          "pattern": {
           "shape": ""
          }
         },
         "name": "Australia",
         "offsetgroup": "Australia",
         "orientation": "v",
         "showlegend": true,
         "textposition": "auto",
         "type": "bar",
         "x": [
          2000,
          2001,
          2002,
          2003,
          2004,
          2005,
          2006,
          2007,
          2008,
          2009,
          2010,
          2011,
          2012,
          2013,
          2014,
          2015,
          2016,
          2017,
          2018,
          2019,
          2020,
          2021,
          2022,
          2023
         ],
         "xaxis": "x",
         "y": [
          27.5,
          27.2,
          28.16,
          26.34,
          28,
          27.34,
          26.81,
          28.77,
          26.73,
          26.32,
          26.59,
          27.11,
          28.77,
          26.51,
          26.51,
          27.03,
          27.69,
          28.71,
          26.84,
          26.32,
          27.69,
          28.71,
          27.2,
          26.4
         ],
         "yaxis": "y"
        },
        {
         "alignmentgroup": "True",
         "hovertemplate": "Country=Canada<br>Year=%{x}<br>Military Expenditure (in Billion USD)=%{y}<extra></extra>",
         "legendgroup": "Canada",
         "marker": {
          "color": "#EF553B",
          "pattern": {
           "shape": ""
          }
         },
         "name": "Canada",
         "offsetgroup": "Canada",
         "orientation": "v",
         "showlegend": true,
         "textposition": "auto",
         "type": "bar",
         "x": [
          2000,
          2001,
          2002,
          2003,
          2004,
          2005,
          2006,
          2007,
          2008,
          2009,
          2010,
          2011,
          2012,
          2013,
          2014,
          2015,
          2016,
          2017,
          2018,
          2019,
          2020,
          2021,
          2022,
          2023
         ],
         "xaxis": "x",
         "y": [
          22.58,
          22.29,
          22.31,
          21.93,
          23.03,
          22.02,
          22.15,
          22.09,
          23.14,
          22.42,
          22.8,
          21.32,
          23.14,
          23.43,
          22.13,
          22.29,
          22.4,
          22.13,
          23.48,
          22.31,
          22.2,
          22.71,
          22.87,
          23.05
         ],
         "yaxis": "y"
        },
        {
         "alignmentgroup": "True",
         "hovertemplate": "Country=China<br>Year=%{x}<br>Military Expenditure (in Billion USD)=%{y}<extra></extra>",
         "legendgroup": "China",
         "marker": {
          "color": "#00cc96",
          "pattern": {
           "shape": ""
          }
         },
         "name": "China",
         "offsetgroup": "China",
         "orientation": "v",
         "showlegend": true,
         "textposition": "auto",
         "type": "bar",
         "x": [
          2000,
          2001,
          2002,
          2003,
          2004,
          2005,
          2006,
          2007,
          2008,
          2009,
          2010,
          2011,
          2012,
          2013,
          2014,
          2015,
          2016,
          2017,
          2018,
          2019,
          2020,
          2021,
          2022,
          2023
         ],
         "xaxis": "x",
         "y": [
          255.52,
          266.22,
          266.74,
          263.09,
          249.25,
          247.95,
          248.21,
          257.87,
          249.78,
          249.52,
          259.17,
          257.08,
          256.82,
          265.96,
          257.35,
          271.7,
          257.08,
          256.3,
          261.52,
          273.53,
          248.21,
          262.83,
          269.87,
          248.73
         ],
         "yaxis": "y"
        },
        {
         "alignmentgroup": "True",
         "hovertemplate": "Country=India<br>Year=%{x}<br>Military Expenditure (in Billion USD)=%{y}<extra></extra>",
         "legendgroup": "India",
         "marker": {
          "color": "#ab63fa",
          "pattern": {
           "shape": ""
          }
         },
         "name": "India",
         "offsetgroup": "India",
         "orientation": "v",
         "showlegend": true,
         "textposition": "auto",
         "type": "bar",
         "x": [
          2000,
          2001,
          2002,
          2003,
          2004,
          2005,
          2006,
          2007,
          2008,
          2009,
          2010,
          2011,
          2012,
          2013,
          2014,
          2015,
          2016,
          2017,
          2018,
          2019,
          2020,
          2021,
          2022,
          2023
         ],
         "xaxis": "x",
         "y": [
          70.01,
          73.27,
          72.78,
          73.77,
          68.02,
          71.64,
          71.5,
          71.14,
          72.35,
          71.71,
          69.15,
          71.85,
          71.71,
          72.7,
          67.52,
          70.79,
          72.99,
          69.58,
          69.58,
          67.59,
          73.27,
          72.7,
          71.92,
          71.28
         ],
         "yaxis": "y"
        },
        {
         "alignmentgroup": "True",
         "hovertemplate": "Country=Russia<br>Year=%{x}<br>Military Expenditure (in Billion USD)=%{y}<extra></extra>",
         "legendgroup": "Russia",
         "marker": {
          "color": "#FFA15A",
          "pattern": {
           "shape": ""
          }
         },
         "name": "Russia",
         "offsetgroup": "Russia",
         "orientation": "v",
         "showlegend": true,
         "textposition": "auto",
         "type": "bar",
         "x": [
          2000,
          2001,
          2002,
          2003,
          2004,
          2005,
          2006,
          2007,
          2008,
          2009,
          2010,
          2011,
          2012,
          2013,
          2014,
          2015,
          2016,
          2017,
          2018,
          2019,
          2020,
          2021,
          2022,
          2023
         ],
         "xaxis": "x",
         "y": [
          62.13,
          62.5,
          63.67,
          60.34,
          59.42,
          60.16,
          59.85,
          62.13,
          61.21,
          62.26,
          59.11,
          59.54,
          62.63,
          62.63,
          64.35,
          60.96,
          60.47,
          61.08,
          64.17,
          59.54,
          63.61,
          61.39,
          60.28,
          63.92
         ],
         "yaxis": "y"
        },
        {
         "alignmentgroup": "True",
         "hovertemplate": "Country=USA<br>Year=%{x}<br>Military Expenditure (in Billion USD)=%{y}<extra></extra>",
         "legendgroup": "USA",
         "marker": {
          "color": "#19d3f3",
          "pattern": {
           "shape": ""
          }
         },
         "name": "USA",
         "offsetgroup": "USA",
         "orientation": "v",
         "showlegend": true,
         "textposition": "auto",
         "type": "bar",
         "x": [
          2000,
          2001,
          2002,
          2003,
          2004,
          2005,
          2006,
          2007,
          2008,
          2009,
          2010,
          2011,
          2012,
          2013,
          2014,
          2015,
          2016,
          2017,
          2018,
          2019,
          2020,
          2021,
          2022,
          2023
         ],
         "xaxis": "x",
         "y": [
          724.68,
          757.62,
          732.73,
          744.44,
          726.14,
          761.28,
          759.82,
          740.78,
          736.39,
          702.72,
          707.11,
          764.21,
          754.69,
          723.22,
          752.5,
          702.72,
          718.82,
          718.82,
          731.27,
          734.93,
          737.12,
          710.77,
          721.75,
          754.69
         ],
         "yaxis": "y"
        }
       ],
       "layout": {
        "barmode": "group",
        "height": 600,
        "legend": {
         "title": {
          "text": "Country"
         },
         "tracegroupgap": 0
        },
        "template": {
         "data": {
          "bar": [
           {
            "error_x": {
             "color": "#2a3f5f"
            },
            "error_y": {
             "color": "#2a3f5f"
            },
            "marker": {
             "line": {
              "color": "#E5ECF6",
              "width": 0.5
             },
             "pattern": {
              "fillmode": "overlay",
              "size": 10,
              "solidity": 0.2
             }
            },
            "type": "bar"
           }
          ],
          "barpolar": [
           {
            "marker": {
             "line": {
              "color": "#E5ECF6",
              "width": 0.5
             },
             "pattern": {
              "fillmode": "overlay",
              "size": 10,
              "solidity": 0.2
             }
            },
            "type": "barpolar"
           }
          ],
          "carpet": [
           {
            "aaxis": {
             "endlinecolor": "#2a3f5f",
             "gridcolor": "white",
             "linecolor": "white",
             "minorgridcolor": "white",
             "startlinecolor": "#2a3f5f"
            },
            "baxis": {
             "endlinecolor": "#2a3f5f",
             "gridcolor": "white",
             "linecolor": "white",
             "minorgridcolor": "white",
             "startlinecolor": "#2a3f5f"
            },
            "type": "carpet"
           }
          ],
          "choropleth": [
           {
            "colorbar": {
             "outlinewidth": 0,
             "ticks": ""
            },
            "type": "choropleth"
           }
          ],
          "contour": [
           {
            "colorbar": {
             "outlinewidth": 0,
             "ticks": ""
            },
            "colorscale": [
             [
              0,
              "#0d0887"
             ],
             [
              0.1111111111111111,
              "#46039f"
             ],
             [
              0.2222222222222222,
              "#7201a8"
             ],
             [
              0.3333333333333333,
              "#9c179e"
             ],
             [
              0.4444444444444444,
              "#bd3786"
             ],
             [
              0.5555555555555556,
              "#d8576b"
             ],
             [
              0.6666666666666666,
              "#ed7953"
             ],
             [
              0.7777777777777778,
              "#fb9f3a"
             ],
             [
              0.8888888888888888,
              "#fdca26"
             ],
             [
              1,
              "#f0f921"
             ]
            ],
            "type": "contour"
           }
          ],
          "contourcarpet": [
           {
            "colorbar": {
             "outlinewidth": 0,
             "ticks": ""
            },
            "type": "contourcarpet"
           }
          ],
          "heatmap": [
           {
            "colorbar": {
             "outlinewidth": 0,
             "ticks": ""
            },
            "colorscale": [
             [
              0,
              "#0d0887"
             ],
             [
              0.1111111111111111,
              "#46039f"
             ],
             [
              0.2222222222222222,
              "#7201a8"
             ],
             [
              0.3333333333333333,
              "#9c179e"
             ],
             [
              0.4444444444444444,
              "#bd3786"
             ],
             [
              0.5555555555555556,
              "#d8576b"
             ],
             [
              0.6666666666666666,
              "#ed7953"
             ],
             [
              0.7777777777777778,
              "#fb9f3a"
             ],
             [
              0.8888888888888888,
              "#fdca26"
             ],
             [
              1,
              "#f0f921"
             ]
            ],
            "type": "heatmap"
           }
          ],
          "heatmapgl": [
           {
            "colorbar": {
             "outlinewidth": 0,
             "ticks": ""
            },
            "colorscale": [
             [
              0,
              "#0d0887"
             ],
             [
              0.1111111111111111,
              "#46039f"
             ],
             [
              0.2222222222222222,
              "#7201a8"
             ],
             [
              0.3333333333333333,
              "#9c179e"
             ],
             [
              0.4444444444444444,
              "#bd3786"
             ],
             [
              0.5555555555555556,
              "#d8576b"
             ],
             [
              0.6666666666666666,
              "#ed7953"
             ],
             [
              0.7777777777777778,
              "#fb9f3a"
             ],
             [
              0.8888888888888888,
              "#fdca26"
             ],
             [
              1,
              "#f0f921"
             ]
            ],
            "type": "heatmapgl"
           }
          ],
          "histogram": [
           {
            "marker": {
             "pattern": {
              "fillmode": "overlay",
              "size": 10,
              "solidity": 0.2
             }
            },
            "type": "histogram"
           }
          ],
          "histogram2d": [
           {
            "colorbar": {
             "outlinewidth": 0,
             "ticks": ""
            },
            "colorscale": [
             [
              0,
              "#0d0887"
             ],
             [
              0.1111111111111111,
              "#46039f"
             ],
             [
              0.2222222222222222,
              "#7201a8"
             ],
             [
              0.3333333333333333,
              "#9c179e"
             ],
             [
              0.4444444444444444,
              "#bd3786"
             ],
             [
              0.5555555555555556,
              "#d8576b"
             ],
             [
              0.6666666666666666,
              "#ed7953"
             ],
             [
              0.7777777777777778,
              "#fb9f3a"
             ],
             [
              0.8888888888888888,
              "#fdca26"
             ],
             [
              1,
              "#f0f921"
             ]
            ],
            "type": "histogram2d"
           }
          ],
          "histogram2dcontour": [
           {
            "colorbar": {
             "outlinewidth": 0,
             "ticks": ""
            },
            "colorscale": [
             [
              0,
              "#0d0887"
             ],
             [
              0.1111111111111111,
              "#46039f"
             ],
             [
              0.2222222222222222,
              "#7201a8"
             ],
             [
              0.3333333333333333,
              "#9c179e"
             ],
             [
              0.4444444444444444,
              "#bd3786"
             ],
             [
              0.5555555555555556,
              "#d8576b"
             ],
             [
              0.6666666666666666,
              "#ed7953"
             ],
             [
              0.7777777777777778,
              "#fb9f3a"
             ],
             [
              0.8888888888888888,
              "#fdca26"
             ],
             [
              1,
              "#f0f921"
             ]
            ],
            "type": "histogram2dcontour"
           }
          ],
          "mesh3d": [
           {
            "colorbar": {
             "outlinewidth": 0,
             "ticks": ""
            },
            "type": "mesh3d"
           }
          ],
          "parcoords": [
           {
            "line": {
             "colorbar": {
              "outlinewidth": 0,
              "ticks": ""
             }
            },
            "type": "parcoords"
           }
          ],
          "pie": [
           {
            "automargin": true,
            "type": "pie"
           }
          ],
          "scatter": [
           {
            "fillpattern": {
             "fillmode": "overlay",
             "size": 10,
             "solidity": 0.2
            },
            "type": "scatter"
           }
          ],
          "scatter3d": [
           {
            "line": {
             "colorbar": {
              "outlinewidth": 0,
              "ticks": ""
             }
            },
            "marker": {
             "colorbar": {
              "outlinewidth": 0,
              "ticks": ""
             }
            },
            "type": "scatter3d"
           }
          ],
          "scattercarpet": [
           {
            "marker": {
             "colorbar": {
              "outlinewidth": 0,
              "ticks": ""
             }
            },
            "type": "scattercarpet"
           }
          ],
          "scattergeo": [
           {
            "marker": {
             "colorbar": {
              "outlinewidth": 0,
              "ticks": ""
             }
            },
            "type": "scattergeo"
           }
          ],
          "scattergl": [
           {
            "marker": {
             "colorbar": {
              "outlinewidth": 0,
              "ticks": ""
             }
            },
            "type": "scattergl"
           }
          ],
          "scattermapbox": [
           {
            "marker": {
             "colorbar": {
              "outlinewidth": 0,
              "ticks": ""
             }
            },
            "type": "scattermapbox"
           }
          ],
          "scatterpolar": [
           {
            "marker": {
             "colorbar": {
              "outlinewidth": 0,
              "ticks": ""
             }
            },
            "type": "scatterpolar"
           }
          ],
          "scatterpolargl": [
           {
            "marker": {
             "colorbar": {
              "outlinewidth": 0,
              "ticks": ""
             }
            },
            "type": "scatterpolargl"
           }
          ],
          "scatterternary": [
           {
            "marker": {
             "colorbar": {
              "outlinewidth": 0,
              "ticks": ""
             }
            },
            "type": "scatterternary"
           }
          ],
          "surface": [
           {
            "colorbar": {
             "outlinewidth": 0,
             "ticks": ""
            },
            "colorscale": [
             [
              0,
              "#0d0887"
             ],
             [
              0.1111111111111111,
              "#46039f"
             ],
             [
              0.2222222222222222,
              "#7201a8"
             ],
             [
              0.3333333333333333,
              "#9c179e"
             ],
             [
              0.4444444444444444,
              "#bd3786"
             ],
             [
              0.5555555555555556,
              "#d8576b"
             ],
             [
              0.6666666666666666,
              "#ed7953"
             ],
             [
              0.7777777777777778,
              "#fb9f3a"
             ],
             [
              0.8888888888888888,
              "#fdca26"
             ],
             [
              1,
              "#f0f921"
             ]
            ],
            "type": "surface"
           }
          ],
          "table": [
           {
            "cells": {
             "fill": {
              "color": "#EBF0F8"
             },
             "line": {
              "color": "white"
             }
            },
            "header": {
             "fill": {
              "color": "#C8D4E3"
             },
             "line": {
              "color": "white"
             }
            },
            "type": "table"
           }
          ]
         },
         "layout": {
          "annotationdefaults": {
           "arrowcolor": "#2a3f5f",
           "arrowhead": 0,
           "arrowwidth": 1
          },
          "autotypenumbers": "strict",
          "coloraxis": {
           "colorbar": {
            "outlinewidth": 0,
            "ticks": ""
           }
          },
          "colorscale": {
           "diverging": [
            [
             0,
             "#8e0152"
            ],
            [
             0.1,
             "#c51b7d"
            ],
            [
             0.2,
             "#de77ae"
            ],
            [
             0.3,
             "#f1b6da"
            ],
            [
             0.4,
             "#fde0ef"
            ],
            [
             0.5,
             "#f7f7f7"
            ],
            [
             0.6,
             "#e6f5d0"
            ],
            [
             0.7,
             "#b8e186"
            ],
            [
             0.8,
             "#7fbc41"
            ],
            [
             0.9,
             "#4d9221"
            ],
            [
             1,
             "#276419"
            ]
           ],
           "sequential": [
            [
             0,
             "#0d0887"
            ],
            [
             0.1111111111111111,
             "#46039f"
            ],
            [
             0.2222222222222222,
             "#7201a8"
            ],
            [
             0.3333333333333333,
             "#9c179e"
            ],
            [
             0.4444444444444444,
             "#bd3786"
            ],
            [
             0.5555555555555556,
             "#d8576b"
            ],
            [
             0.6666666666666666,
             "#ed7953"
            ],
            [
             0.7777777777777778,
             "#fb9f3a"
            ],
            [
             0.8888888888888888,
             "#fdca26"
            ],
            [
             1,
             "#f0f921"
            ]
           ],
           "sequentialminus": [
            [
             0,
             "#0d0887"
            ],
            [
             0.1111111111111111,
             "#46039f"
            ],
            [
             0.2222222222222222,
             "#7201a8"
            ],
            [
             0.3333333333333333,
             "#9c179e"
            ],
            [
             0.4444444444444444,
             "#bd3786"
            ],
            [
             0.5555555555555556,
             "#d8576b"
            ],
            [
             0.6666666666666666,
             "#ed7953"
            ],
            [
             0.7777777777777778,
             "#fb9f3a"
            ],
            [
             0.8888888888888888,
             "#fdca26"
            ],
            [
             1,
             "#f0f921"
            ]
           ]
          },
          "colorway": [
           "#636efa",
           "#EF553B",
           "#00cc96",
           "#ab63fa",
           "#FFA15A",
           "#19d3f3",
           "#FF6692",
           "#B6E880",
           "#FF97FF",
           "#FECB52"
          ],
          "font": {
           "color": "#2a3f5f"
          },
          "geo": {
           "bgcolor": "white",
           "lakecolor": "white",
           "landcolor": "#E5ECF6",
           "showlakes": true,
           "showland": true,
           "subunitcolor": "white"
          },
          "hoverlabel": {
           "align": "left"
          },
          "hovermode": "closest",
          "mapbox": {
           "style": "light"
          },
          "paper_bgcolor": "white",
          "plot_bgcolor": "#E5ECF6",
          "polar": {
           "angularaxis": {
            "gridcolor": "white",
            "linecolor": "white",
            "ticks": ""
           },
           "bgcolor": "#E5ECF6",
           "radialaxis": {
            "gridcolor": "white",
            "linecolor": "white",
            "ticks": ""
           }
          },
          "scene": {
           "xaxis": {
            "backgroundcolor": "#E5ECF6",
            "gridcolor": "white",
            "gridwidth": 2,
            "linecolor": "white",
            "showbackground": true,
            "ticks": "",
            "zerolinecolor": "white"
           },
           "yaxis": {
            "backgroundcolor": "#E5ECF6",
            "gridcolor": "white",
            "gridwidth": 2,
            "linecolor": "white",
            "showbackground": true,
            "ticks": "",
            "zerolinecolor": "white"
           },
           "zaxis": {
            "backgroundcolor": "#E5ECF6",
            "gridcolor": "white",
            "gridwidth": 2,
            "linecolor": "white",
            "showbackground": true,
            "ticks": "",
            "zerolinecolor": "white"
           }
          },
          "shapedefaults": {
           "line": {
            "color": "#2a3f5f"
           }
          },
          "ternary": {
           "aaxis": {
            "gridcolor": "white",
            "linecolor": "white",
            "ticks": ""
           },
           "baxis": {
            "gridcolor": "white",
            "linecolor": "white",
            "ticks": ""
           },
           "bgcolor": "#E5ECF6",
           "caxis": {
            "gridcolor": "white",
            "linecolor": "white",
            "ticks": ""
           }
          },
          "title": {
           "x": 0.05
          },
          "xaxis": {
           "automargin": true,
           "gridcolor": "white",
           "linecolor": "white",
           "ticks": "",
           "title": {
            "standoff": 15
           },
           "zerolinecolor": "white",
           "zerolinewidth": 2
          },
          "yaxis": {
           "automargin": true,
           "gridcolor": "white",
           "linecolor": "white",
           "ticks": "",
           "title": {
            "standoff": 15
           },
           "zerolinecolor": "white",
           "zerolinewidth": 2
          }
         }
        },
        "title": {
         "text": "Total Military Expenditure by Year and Country"
        },
        "xaxis": {
         "anchor": "y",
         "domain": [
          0,
          1
         ],
         "tickangle": -45,
         "title": {
          "text": "Year"
         }
        },
        "yaxis": {
         "anchor": "x",
         "domain": [
          0,
          1
         ],
         "title": {
          "text": "Military Expenditure (in Billion USD)"
         }
        }
       }
      }
     },
     "metadata": {},
     "output_type": "display_data"
    }
   ],
   "source": [
    "df_yearly = df.groupby(['Year', 'Country'], as_index=False)['Military Expenditure (in Billion USD)'].sum()\n",
    "\n",
    "fig = px.bar(df_yearly, \n",
    "             x='Year', \n",
    "             y='Military Expenditure (in Billion USD)', \n",
    "             color='Country', \n",
    "             title='Total Military Expenditure by Year and Country',\n",
    "             barmode='group',  \n",
    "             height=600)  \n",
    "\n",
    "fig.update_layout(\n",
    "    xaxis_title='Year',\n",
    "    yaxis_title='Military Expenditure (in Billion USD)',\n",
    "    xaxis_tickangle=-45,  \n",
    "    legend_title='Country',\n",
    ")\n",
    "\n",
    "fig.show()\n"
   ]
  },
  {
   "cell_type": "code",
   "execution_count": 16,
   "metadata": {},
   "outputs": [
    {
     "data": {
      "application/vnd.plotly.v1+json": {
       "config": {
        "plotlyServerURL": "https://plot.ly"
       },
       "data": [
        {
         "hovertemplate": "Country=Australia<br>Year=%{x}<br>Crime Rate (per 100,000)=%{y}<extra></extra>",
         "legendgroup": "Australia",
         "marker": {
          "color": "#636efa",
          "symbol": "circle"
         },
         "mode": "markers",
         "name": "Australia",
         "orientation": "v",
         "showlegend": true,
         "type": "scatter",
         "x": [
          2000,
          2001,
          2002,
          2003,
          2004,
          2005,
          2006,
          2007,
          2008,
          2009,
          2010,
          2011,
          2012,
          2013,
          2014,
          2015,
          2016,
          2017,
          2018,
          2019,
          2020,
          2021,
          2022,
          2023
         ],
         "xaxis": "x",
         "y": [
          855,
          928.8,
          942.3,
          895.5,
          876.6,
          930.6,
          860.4,
          917.1,
          943.2,
          864,
          857.7,
          899.1,
          908.1,
          933.3,
          877.5,
          892.8,
          857.7,
          870.3,
          909,
          936.9,
          918,
          863.1,
          940.5,
          910.8
         ],
         "yaxis": "y"
        },
        {
         "hovertemplate": "<b>OLS trendline</b><br>Crime Rate (per 100,000) = 0.241435 * Year + 413.866<br>R<sup>2</sup>=0.003014<br><br>Country=Australia<br>Year=%{x}<br>Crime Rate (per 100,000)=%{y} <b>(trend)</b><extra></extra>",
         "legendgroup": "Australia",
         "marker": {
          "color": "#636efa",
          "symbol": "circle"
         },
         "mode": "lines",
         "name": "Australia",
         "showlegend": false,
         "type": "scatter",
         "x": [
          2000,
          2001,
          2002,
          2003,
          2004,
          2005,
          2006,
          2007,
          2008,
          2009,
          2010,
          2011,
          2012,
          2013,
          2014,
          2015,
          2016,
          2017,
          2018,
          2019,
          2020,
          2021,
          2022,
          2023
         ],
         "xaxis": "x",
         "y": [
          896.7359999999967,
          896.9774347826053,
          897.2188695652138,
          897.4603043478224,
          897.701739130431,
          897.9431739130396,
          898.1846086956482,
          898.4260434782568,
          898.6674782608654,
          898.9089130434741,
          899.1503478260826,
          899.3917826086912,
          899.6332173912997,
          899.8746521739083,
          900.1160869565169,
          900.3575217391256,
          900.5989565217342,
          900.8403913043428,
          901.0818260869514,
          901.3232608695599,
          901.5646956521686,
          901.8061304347771,
          902.0475652173857,
          902.2889999999943
         ],
         "yaxis": "y"
        },
        {
         "hovertemplate": "Country=Canada<br>Year=%{x}<br>Crime Rate (per 100,000)=%{y}<extra></extra>",
         "legendgroup": "Canada",
         "marker": {
          "color": "#EF553B",
          "symbol": "circle"
         },
         "mode": "markers",
         "name": "Canada",
         "orientation": "v",
         "showlegend": true,
         "type": "scatter",
         "x": [
          2000,
          2001,
          2002,
          2003,
          2004,
          2005,
          2006,
          2007,
          2008,
          2009,
          2010,
          2011,
          2012,
          2013,
          2014,
          2015,
          2016,
          2017,
          2018,
          2019,
          2020,
          2021,
          2022,
          2023
         ],
         "xaxis": "x",
         "y": [
          795.2,
          817.6,
          832.8,
          811.2,
          803.2,
          836,
          762.4,
          772,
          762.4,
          790.4,
          766.4,
          773.6,
          808,
          830.4,
          790.4,
          774.4,
          834.4,
          797.6,
          788,
          821.6,
          796,
          804.8,
          792.8,
          800.8
         ],
         "yaxis": "y"
        },
        {
         "hovertemplate": "<b>OLS trendline</b><br>Crime Rate (per 100,000) = -0.117913 * Year + 1035.62<br>R<sup>2</sup>=0.001339<br><br>Country=Canada<br>Year=%{x}<br>Crime Rate (per 100,000)=%{y} <b>(trend)</b><extra></extra>",
         "legendgroup": "Canada",
         "marker": {
          "color": "#EF553B",
          "symbol": "circle"
         },
         "mode": "lines",
         "name": "Canada",
         "showlegend": false,
         "type": "scatter",
         "x": [
          2000,
          2001,
          2002,
          2003,
          2004,
          2005,
          2006,
          2007,
          2008,
          2009,
          2010,
          2011,
          2012,
          2013,
          2014,
          2015,
          2016,
          2017,
          2018,
          2019,
          2020,
          2021,
          2022,
          2023
         ],
         "xaxis": "x",
         "y": [
          799.7893333333504,
          799.6714202898722,
          799.5535072463939,
          799.4355942029156,
          799.3176811594374,
          799.199768115959,
          799.0818550724807,
          798.9639420290025,
          798.8460289855242,
          798.7281159420459,
          798.6102028985676,
          798.4922898550893,
          798.374376811611,
          798.2564637681328,
          798.1385507246545,
          798.0206376811761,
          797.9027246376979,
          797.7848115942196,
          797.6668985507413,
          797.5489855072631,
          797.4310724637847,
          797.3131594203064,
          797.1952463768282,
          797.0773333333499
         ],
         "yaxis": "y"
        },
        {
         "hovertemplate": "Country=China<br>Year=%{x}<br>Crime Rate (per 100,000)=%{y}<extra></extra>",
         "legendgroup": "China",
         "marker": {
          "color": "#00cc96",
          "symbol": "circle"
         },
         "mode": "markers",
         "name": "China",
         "orientation": "v",
         "showlegend": true,
         "type": "scatter",
         "x": [
          2000,
          2001,
          2002,
          2003,
          2004,
          2005,
          2006,
          2007,
          2008,
          2009,
          2010,
          2011,
          2012,
          2013,
          2014,
          2015,
          2016,
          2017,
          2018,
          2019,
          2020,
          2021,
          2022,
          2023
         ],
         "xaxis": "x",
         "y": [
          102.9,
          104.2,
          98.5,
          96.3,
          100.6,
          100.8,
          104.8,
          100.1,
          101.5,
          104.6,
          99.1,
          97.5,
          98.6,
          103.5,
          104.6,
          95.5,
          96.1,
          101.7,
          95.3,
          104.7,
          95.7,
          99.1,
          101.7,
          95.3
         ],
         "yaxis": "y"
        },
        {
         "hovertemplate": "<b>OLS trendline</b><br>Crime Rate (per 100,000) = -0.145174 * Year + 392.13<br>R<sup>2</sup>=0.093801<br><br>Country=China<br>Year=%{x}<br>Crime Rate (per 100,000)=%{y} <b>(trend)</b><extra></extra>",
         "legendgroup": "China",
         "marker": {
          "color": "#00cc96",
          "symbol": "circle"
         },
         "mode": "lines",
         "name": "China",
         "showlegend": false,
         "type": "scatter",
         "x": [
          2000,
          2001,
          2002,
          2003,
          2004,
          2005,
          2006,
          2007,
          2008,
          2009,
          2010,
          2011,
          2012,
          2013,
          2014,
          2015,
          2016,
          2017,
          2018,
          2019,
          2020,
          2021,
          2022,
          2023
         ],
         "xaxis": "x",
         "y": [
          101.78199999999708,
          101.63682608695365,
          101.49165217391015,
          101.34647826086666,
          101.20130434782317,
          101.05613043477967,
          100.91095652173624,
          100.76578260869275,
          100.62060869564925,
          100.47543478260576,
          100.33026086956227,
          100.18508695651883,
          100.03991304347534,
          99.89473913043184,
          99.74956521738835,
          99.60439130434486,
          99.45921739130142,
          99.31404347825793,
          99.16886956521444,
          99.02369565217094,
          98.87852173912745,
          98.73334782608401,
          98.58817391304052,
          98.44299999999703
         ],
         "yaxis": "y"
        },
        {
         "hovertemplate": "Country=India<br>Year=%{x}<br>Crime Rate (per 100,000)=%{y}<extra></extra>",
         "legendgroup": "India",
         "marker": {
          "color": "#ab63fa",
          "symbol": "circle"
         },
         "mode": "markers",
         "name": "India",
         "orientation": "v",
         "showlegend": true,
         "type": "scatter",
         "x": [
          2000,
          2001,
          2002,
          2003,
          2004,
          2005,
          2006,
          2007,
          2008,
          2009,
          2010,
          2011,
          2012,
          2013,
          2014,
          2015,
          2016,
          2017,
          2018,
          2019,
          2020,
          2021,
          2022,
          2023
         ],
         "xaxis": "x",
         "y": [
          245.25,
          256.25,
          250,
          248.25,
          254,
          259.25,
          244,
          239,
          250.5,
          260,
          243.5,
          260.5,
          256,
          260.5,
          241.5,
          255.75,
          259.5,
          250.25,
          245.25,
          251.5,
          256,
          244,
          248.5,
          240.75
         ],
         "yaxis": "y"
        },
        {
         "hovertemplate": "<b>OLS trendline</b><br>Crime Rate (per 100,000) = -0.0973913 * Year + 446.736<br>R<sup>2</sup>=0.010046<br><br>Country=India<br>Year=%{x}<br>Crime Rate (per 100,000)=%{y} <b>(trend)</b><extra></extra>",
         "legendgroup": "India",
         "marker": {
          "color": "#ab63fa",
          "symbol": "circle"
         },
         "mode": "lines",
         "name": "India",
         "showlegend": false,
         "type": "scatter",
         "x": [
          2000,
          2001,
          2002,
          2003,
          2004,
          2005,
          2006,
          2007,
          2008,
          2009,
          2010,
          2011,
          2012,
          2013,
          2014,
          2015,
          2016,
          2017,
          2018,
          2019,
          2020,
          2021,
          2022,
          2023
         ],
         "xaxis": "x",
         "y": [
          251.95333333333159,
          251.85594202898375,
          251.7585507246359,
          251.66115942028804,
          251.5637681159402,
          251.46637681159234,
          251.3689855072445,
          251.27159420289667,
          251.1742028985488,
          251.07681159420096,
          250.97942028985312,
          250.88202898550526,
          250.78463768115742,
          250.68724637680958,
          250.58985507246172,
          250.49246376811388,
          250.39507246376604,
          250.29768115941818,
          250.20028985507034,
          250.10289855072247,
          250.00550724637463,
          249.9081159420268,
          249.81072463767893,
          249.7133333333311
         ],
         "yaxis": "y"
        },
        {
         "hovertemplate": "Country=Russia<br>Year=%{x}<br>Crime Rate (per 100,000)=%{y}<extra></extra>",
         "legendgroup": "Russia",
         "marker": {
          "color": "#FFA15A",
          "symbol": "circle"
         },
         "mode": "markers",
         "name": "Russia",
         "orientation": "v",
         "showlegend": true,
         "type": "scatter",
         "x": [
          2000,
          2001,
          2002,
          2003,
          2004,
          2005,
          2006,
          2007,
          2008,
          2009,
          2010,
          2011,
          2012,
          2013,
          2014,
          2015,
          2016,
          2017,
          2018,
          2019,
          2020,
          2021,
          2022,
          2023
         ],
         "xaxis": "x",
         "y": [
          497.5,
          520,
          512.5,
          496,
          481,
          507.5,
          515.5,
          490,
          512,
          494,
          492.5,
          503,
          503,
          502,
          520.5,
          499.5,
          502,
          496.5,
          524,
          482,
          509,
          505,
          516.5,
          477.5
         ],
         "yaxis": "y"
        },
        {
         "hovertemplate": "<b>OLS trendline</b><br>Crime Rate (per 100,000) = -0.11 * Year + 723.723<br>R<sup>2</sup>=0.003791<br><br>Country=Russia<br>Year=%{x}<br>Crime Rate (per 100,000)=%{y} <b>(trend)</b><extra></extra>",
         "legendgroup": "Russia",
         "marker": {
          "color": "#FFA15A",
          "symbol": "circle"
         },
         "mode": "lines",
         "name": "Russia",
         "showlegend": false,
         "type": "scatter",
         "x": [
          2000,
          2001,
          2002,
          2003,
          2004,
          2005,
          2006,
          2007,
          2008,
          2009,
          2010,
          2011,
          2012,
          2013,
          2014,
          2015,
          2016,
          2017,
          2018,
          2019,
          2020,
          2021,
          2022,
          2023
         ],
         "xaxis": "x",
         "y": [
          503.7233333333285,
          503.6133333333285,
          503.5033333333285,
          503.3933333333284,
          503.2833333333284,
          503.1733333333284,
          503.0633333333284,
          502.9533333333284,
          502.84333333332836,
          502.7333333333283,
          502.6233333333283,
          502.5133333333282,
          502.4033333333282,
          502.2933333333282,
          502.18333333332816,
          502.07333333332815,
          501.96333333332814,
          501.8533333333281,
          501.74333333332805,
          501.63333333332804,
          501.52333333332797,
          501.41333333332796,
          501.30333333332794,
          501.1933333333279
         ],
         "yaxis": "y"
        },
        {
         "hovertemplate": "Country=USA<br>Year=%{x}<br>Crime Rate (per 100,000)=%{y}<extra></extra>",
         "legendgroup": "USA",
         "marker": {
          "color": "#19d3f3",
          "symbol": "circle"
         },
         "mode": "markers",
         "name": "USA",
         "orientation": "v",
         "showlegend": true,
         "type": "scatter",
         "x": [
          2000,
          2001,
          2002,
          2003,
          2004,
          2005,
          2006,
          2007,
          2008,
          2009,
          2010,
          2011,
          2012,
          2013,
          2014,
          2015,
          2016,
          2017,
          2018,
          2019,
          2020,
          2021,
          2022,
          2023
         ],
         "xaxis": "x",
         "y": [
          287.4,
          306.9,
          288.6,
          304.2,
          297.6,
          288,
          291.9,
          312.9,
          303.3,
          299.1,
          294.9,
          299.4,
          297.3,
          288,
          313.2,
          293.1,
          285.9,
          300,
          298.8,
          306.6,
          301.2,
          307.2,
          306.3,
          287.7
         ],
         "yaxis": "y"
        },
        {
         "hovertemplate": "<b>OLS trendline</b><br>Crime Rate (per 100,000) = 0.171522 * Year + -46.7035<br>R<sup>2</sup>=0.021595<br><br>Country=USA<br>Year=%{x}<br>Crime Rate (per 100,000)=%{y} <b>(trend)</b><extra></extra>",
         "legendgroup": "USA",
         "marker": {
          "color": "#19d3f3",
          "symbol": "circle"
         },
         "mode": "lines",
         "name": "USA",
         "showlegend": false,
         "type": "scatter",
         "x": [
          2000,
          2001,
          2002,
          2003,
          2004,
          2005,
          2006,
          2007,
          2008,
          2009,
          2010,
          2011,
          2012,
          2013,
          2014,
          2015,
          2016,
          2017,
          2018,
          2019,
          2020,
          2021,
          2022,
          2023
         ],
         "xaxis": "x",
         "y": [
          296.3399999999928,
          296.5115217391232,
          296.68304347825364,
          296.85456521738405,
          297.02608695651446,
          297.1976086956449,
          297.3691304347753,
          297.5406521739057,
          297.7121739130361,
          297.8836956521665,
          298.05521739129694,
          298.22673913042735,
          298.39826086955776,
          298.5697826086882,
          298.7413043478186,
          298.912826086949,
          299.08434782607947,
          299.2558695652099,
          299.4273913043403,
          299.5989130434707,
          299.7704347826011,
          299.9419565217315,
          300.11347826086194,
          300.28499999999235
         ],
         "yaxis": "y"
        }
       ],
       "layout": {
        "height": 600,
        "legend": {
         "title": {
          "text": "Country"
         },
         "tracegroupgap": 0
        },
        "template": {
         "data": {
          "bar": [
           {
            "error_x": {
             "color": "#2a3f5f"
            },
            "error_y": {
             "color": "#2a3f5f"
            },
            "marker": {
             "line": {
              "color": "#E5ECF6",
              "width": 0.5
             },
             "pattern": {
              "fillmode": "overlay",
              "size": 10,
              "solidity": 0.2
             }
            },
            "type": "bar"
           }
          ],
          "barpolar": [
           {
            "marker": {
             "line": {
              "color": "#E5ECF6",
              "width": 0.5
             },
             "pattern": {
              "fillmode": "overlay",
              "size": 10,
              "solidity": 0.2
             }
            },
            "type": "barpolar"
           }
          ],
          "carpet": [
           {
            "aaxis": {
             "endlinecolor": "#2a3f5f",
             "gridcolor": "white",
             "linecolor": "white",
             "minorgridcolor": "white",
             "startlinecolor": "#2a3f5f"
            },
            "baxis": {
             "endlinecolor": "#2a3f5f",
             "gridcolor": "white",
             "linecolor": "white",
             "minorgridcolor": "white",
             "startlinecolor": "#2a3f5f"
            },
            "type": "carpet"
           }
          ],
          "choropleth": [
           {
            "colorbar": {
             "outlinewidth": 0,
             "ticks": ""
            },
            "type": "choropleth"
           }
          ],
          "contour": [
           {
            "colorbar": {
             "outlinewidth": 0,
             "ticks": ""
            },
            "colorscale": [
             [
              0,
              "#0d0887"
             ],
             [
              0.1111111111111111,
              "#46039f"
             ],
             [
              0.2222222222222222,
              "#7201a8"
             ],
             [
              0.3333333333333333,
              "#9c179e"
             ],
             [
              0.4444444444444444,
              "#bd3786"
             ],
             [
              0.5555555555555556,
              "#d8576b"
             ],
             [
              0.6666666666666666,
              "#ed7953"
             ],
             [
              0.7777777777777778,
              "#fb9f3a"
             ],
             [
              0.8888888888888888,
              "#fdca26"
             ],
             [
              1,
              "#f0f921"
             ]
            ],
            "type": "contour"
           }
          ],
          "contourcarpet": [
           {
            "colorbar": {
             "outlinewidth": 0,
             "ticks": ""
            },
            "type": "contourcarpet"
           }
          ],
          "heatmap": [
           {
            "colorbar": {
             "outlinewidth": 0,
             "ticks": ""
            },
            "colorscale": [
             [
              0,
              "#0d0887"
             ],
             [
              0.1111111111111111,
              "#46039f"
             ],
             [
              0.2222222222222222,
              "#7201a8"
             ],
             [
              0.3333333333333333,
              "#9c179e"
             ],
             [
              0.4444444444444444,
              "#bd3786"
             ],
             [
              0.5555555555555556,
              "#d8576b"
             ],
             [
              0.6666666666666666,
              "#ed7953"
             ],
             [
              0.7777777777777778,
              "#fb9f3a"
             ],
             [
              0.8888888888888888,
              "#fdca26"
             ],
             [
              1,
              "#f0f921"
             ]
            ],
            "type": "heatmap"
           }
          ],
          "heatmapgl": [
           {
            "colorbar": {
             "outlinewidth": 0,
             "ticks": ""
            },
            "colorscale": [
             [
              0,
              "#0d0887"
             ],
             [
              0.1111111111111111,
              "#46039f"
             ],
             [
              0.2222222222222222,
              "#7201a8"
             ],
             [
              0.3333333333333333,
              "#9c179e"
             ],
             [
              0.4444444444444444,
              "#bd3786"
             ],
             [
              0.5555555555555556,
              "#d8576b"
             ],
             [
              0.6666666666666666,
              "#ed7953"
             ],
             [
              0.7777777777777778,
              "#fb9f3a"
             ],
             [
              0.8888888888888888,
              "#fdca26"
             ],
             [
              1,
              "#f0f921"
             ]
            ],
            "type": "heatmapgl"
           }
          ],
          "histogram": [
           {
            "marker": {
             "pattern": {
              "fillmode": "overlay",
              "size": 10,
              "solidity": 0.2
             }
            },
            "type": "histogram"
           }
          ],
          "histogram2d": [
           {
            "colorbar": {
             "outlinewidth": 0,
             "ticks": ""
            },
            "colorscale": [
             [
              0,
              "#0d0887"
             ],
             [
              0.1111111111111111,
              "#46039f"
             ],
             [
              0.2222222222222222,
              "#7201a8"
             ],
             [
              0.3333333333333333,
              "#9c179e"
             ],
             [
              0.4444444444444444,
              "#bd3786"
             ],
             [
              0.5555555555555556,
              "#d8576b"
             ],
             [
              0.6666666666666666,
              "#ed7953"
             ],
             [
              0.7777777777777778,
              "#fb9f3a"
             ],
             [
              0.8888888888888888,
              "#fdca26"
             ],
             [
              1,
              "#f0f921"
             ]
            ],
            "type": "histogram2d"
           }
          ],
          "histogram2dcontour": [
           {
            "colorbar": {
             "outlinewidth": 0,
             "ticks": ""
            },
            "colorscale": [
             [
              0,
              "#0d0887"
             ],
             [
              0.1111111111111111,
              "#46039f"
             ],
             [
              0.2222222222222222,
              "#7201a8"
             ],
             [
              0.3333333333333333,
              "#9c179e"
             ],
             [
              0.4444444444444444,
              "#bd3786"
             ],
             [
              0.5555555555555556,
              "#d8576b"
             ],
             [
              0.6666666666666666,
              "#ed7953"
             ],
             [
              0.7777777777777778,
              "#fb9f3a"
             ],
             [
              0.8888888888888888,
              "#fdca26"
             ],
             [
              1,
              "#f0f921"
             ]
            ],
            "type": "histogram2dcontour"
           }
          ],
          "mesh3d": [
           {
            "colorbar": {
             "outlinewidth": 0,
             "ticks": ""
            },
            "type": "mesh3d"
           }
          ],
          "parcoords": [
           {
            "line": {
             "colorbar": {
              "outlinewidth": 0,
              "ticks": ""
             }
            },
            "type": "parcoords"
           }
          ],
          "pie": [
           {
            "automargin": true,
            "type": "pie"
           }
          ],
          "scatter": [
           {
            "fillpattern": {
             "fillmode": "overlay",
             "size": 10,
             "solidity": 0.2
            },
            "type": "scatter"
           }
          ],
          "scatter3d": [
           {
            "line": {
             "colorbar": {
              "outlinewidth": 0,
              "ticks": ""
             }
            },
            "marker": {
             "colorbar": {
              "outlinewidth": 0,
              "ticks": ""
             }
            },
            "type": "scatter3d"
           }
          ],
          "scattercarpet": [
           {
            "marker": {
             "colorbar": {
              "outlinewidth": 0,
              "ticks": ""
             }
            },
            "type": "scattercarpet"
           }
          ],
          "scattergeo": [
           {
            "marker": {
             "colorbar": {
              "outlinewidth": 0,
              "ticks": ""
             }
            },
            "type": "scattergeo"
           }
          ],
          "scattergl": [
           {
            "marker": {
             "colorbar": {
              "outlinewidth": 0,
              "ticks": ""
             }
            },
            "type": "scattergl"
           }
          ],
          "scattermapbox": [
           {
            "marker": {
             "colorbar": {
              "outlinewidth": 0,
              "ticks": ""
             }
            },
            "type": "scattermapbox"
           }
          ],
          "scatterpolar": [
           {
            "marker": {
             "colorbar": {
              "outlinewidth": 0,
              "ticks": ""
             }
            },
            "type": "scatterpolar"
           }
          ],
          "scatterpolargl": [
           {
            "marker": {
             "colorbar": {
              "outlinewidth": 0,
              "ticks": ""
             }
            },
            "type": "scatterpolargl"
           }
          ],
          "scatterternary": [
           {
            "marker": {
             "colorbar": {
              "outlinewidth": 0,
              "ticks": ""
             }
            },
            "type": "scatterternary"
           }
          ],
          "surface": [
           {
            "colorbar": {
             "outlinewidth": 0,
             "ticks": ""
            },
            "colorscale": [
             [
              0,
              "#0d0887"
             ],
             [
              0.1111111111111111,
              "#46039f"
             ],
             [
              0.2222222222222222,
              "#7201a8"
             ],
             [
              0.3333333333333333,
              "#9c179e"
             ],
             [
              0.4444444444444444,
              "#bd3786"
             ],
             [
              0.5555555555555556,
              "#d8576b"
             ],
             [
              0.6666666666666666,
              "#ed7953"
             ],
             [
              0.7777777777777778,
              "#fb9f3a"
             ],
             [
              0.8888888888888888,
              "#fdca26"
             ],
             [
              1,
              "#f0f921"
             ]
            ],
            "type": "surface"
           }
          ],
          "table": [
           {
            "cells": {
             "fill": {
              "color": "#EBF0F8"
             },
             "line": {
              "color": "white"
             }
            },
            "header": {
             "fill": {
              "color": "#C8D4E3"
             },
             "line": {
              "color": "white"
             }
            },
            "type": "table"
           }
          ]
         },
         "layout": {
          "annotationdefaults": {
           "arrowcolor": "#2a3f5f",
           "arrowhead": 0,
           "arrowwidth": 1
          },
          "autotypenumbers": "strict",
          "coloraxis": {
           "colorbar": {
            "outlinewidth": 0,
            "ticks": ""
           }
          },
          "colorscale": {
           "diverging": [
            [
             0,
             "#8e0152"
            ],
            [
             0.1,
             "#c51b7d"
            ],
            [
             0.2,
             "#de77ae"
            ],
            [
             0.3,
             "#f1b6da"
            ],
            [
             0.4,
             "#fde0ef"
            ],
            [
             0.5,
             "#f7f7f7"
            ],
            [
             0.6,
             "#e6f5d0"
            ],
            [
             0.7,
             "#b8e186"
            ],
            [
             0.8,
             "#7fbc41"
            ],
            [
             0.9,
             "#4d9221"
            ],
            [
             1,
             "#276419"
            ]
           ],
           "sequential": [
            [
             0,
             "#0d0887"
            ],
            [
             0.1111111111111111,
             "#46039f"
            ],
            [
             0.2222222222222222,
             "#7201a8"
            ],
            [
             0.3333333333333333,
             "#9c179e"
            ],
            [
             0.4444444444444444,
             "#bd3786"
            ],
            [
             0.5555555555555556,
             "#d8576b"
            ],
            [
             0.6666666666666666,
             "#ed7953"
            ],
            [
             0.7777777777777778,
             "#fb9f3a"
            ],
            [
             0.8888888888888888,
             "#fdca26"
            ],
            [
             1,
             "#f0f921"
            ]
           ],
           "sequentialminus": [
            [
             0,
             "#0d0887"
            ],
            [
             0.1111111111111111,
             "#46039f"
            ],
            [
             0.2222222222222222,
             "#7201a8"
            ],
            [
             0.3333333333333333,
             "#9c179e"
            ],
            [
             0.4444444444444444,
             "#bd3786"
            ],
            [
             0.5555555555555556,
             "#d8576b"
            ],
            [
             0.6666666666666666,
             "#ed7953"
            ],
            [
             0.7777777777777778,
             "#fb9f3a"
            ],
            [
             0.8888888888888888,
             "#fdca26"
            ],
            [
             1,
             "#f0f921"
            ]
           ]
          },
          "colorway": [
           "#636efa",
           "#EF553B",
           "#00cc96",
           "#ab63fa",
           "#FFA15A",
           "#19d3f3",
           "#FF6692",
           "#B6E880",
           "#FF97FF",
           "#FECB52"
          ],
          "font": {
           "color": "#2a3f5f"
          },
          "geo": {
           "bgcolor": "white",
           "lakecolor": "white",
           "landcolor": "#E5ECF6",
           "showlakes": true,
           "showland": true,
           "subunitcolor": "white"
          },
          "hoverlabel": {
           "align": "left"
          },
          "hovermode": "closest",
          "mapbox": {
           "style": "light"
          },
          "paper_bgcolor": "white",
          "plot_bgcolor": "#E5ECF6",
          "polar": {
           "angularaxis": {
            "gridcolor": "white",
            "linecolor": "white",
            "ticks": ""
           },
           "bgcolor": "#E5ECF6",
           "radialaxis": {
            "gridcolor": "white",
            "linecolor": "white",
            "ticks": ""
           }
          },
          "scene": {
           "xaxis": {
            "backgroundcolor": "#E5ECF6",
            "gridcolor": "white",
            "gridwidth": 2,
            "linecolor": "white",
            "showbackground": true,
            "ticks": "",
            "zerolinecolor": "white"
           },
           "yaxis": {
            "backgroundcolor": "#E5ECF6",
            "gridcolor": "white",
            "gridwidth": 2,
            "linecolor": "white",
            "showbackground": true,
            "ticks": "",
            "zerolinecolor": "white"
           },
           "zaxis": {
            "backgroundcolor": "#E5ECF6",
            "gridcolor": "white",
            "gridwidth": 2,
            "linecolor": "white",
            "showbackground": true,
            "ticks": "",
            "zerolinecolor": "white"
           }
          },
          "shapedefaults": {
           "line": {
            "color": "#2a3f5f"
           }
          },
          "ternary": {
           "aaxis": {
            "gridcolor": "white",
            "linecolor": "white",
            "ticks": ""
           },
           "baxis": {
            "gridcolor": "white",
            "linecolor": "white",
            "ticks": ""
           },
           "bgcolor": "#E5ECF6",
           "caxis": {
            "gridcolor": "white",
            "linecolor": "white",
            "ticks": ""
           }
          },
          "title": {
           "x": 0.05
          },
          "xaxis": {
           "automargin": true,
           "gridcolor": "white",
           "linecolor": "white",
           "ticks": "",
           "title": {
            "standoff": 15
           },
           "zerolinecolor": "white",
           "zerolinewidth": 2
          },
          "yaxis": {
           "automargin": true,
           "gridcolor": "white",
           "linecolor": "white",
           "ticks": "",
           "title": {
            "standoff": 15
           },
           "zerolinecolor": "white",
           "zerolinewidth": 2
          }
         }
        },
        "title": {
         "text": "Average Crime Rate by Country Over Years"
        },
        "xaxis": {
         "anchor": "y",
         "domain": [
          0,
          1
         ],
         "tickangle": -45,
         "title": {
          "text": "Year"
         }
        },
        "yaxis": {
         "anchor": "x",
         "domain": [
          0,
          1
         ],
         "title": {
          "text": "Crime Rate (per 100,000)"
         }
        }
       }
      }
     },
     "metadata": {},
     "output_type": "display_data"
    }
   ],
   "source": [
    "df_yearly_crime = df.groupby(['Year', 'Country'], as_index=False)['Crime Rate (per 100,000)'].mean()  # Use mean for averages\n",
    "\n",
    "fig_crime_scatter = px.scatter(df_yearly_crime, \n",
    "                                x='Year', \n",
    "                                y='Crime Rate (per 100,000)', \n",
    "                                color='Country', \n",
    "                                title='Average Crime Rate by Country Over Years',\n",
    "                                trendline='ols',  \n",
    "                                height=600)\n",
    "\n",
    "fig_crime_scatter.update_layout(\n",
    "    xaxis_title='Year',\n",
    "    yaxis_title='Crime Rate (per 100,000)',\n",
    "    xaxis_tickangle=-45,  \n",
    "    legend_title='Country',\n",
    ")\n",
    "fig_crime_scatter.show()\n"
   ]
  },
  {
   "cell_type": "code",
   "execution_count": 17,
   "metadata": {},
   "outputs": [
    {
     "data": {
      "application/vnd.plotly.v1+json": {
       "config": {
        "plotlyServerURL": "https://plot.ly"
       },
       "data": [
        {
         "domain": {
          "x": [
           0,
           1
          ],
          "y": [
           0,
           1
          ]
         },
         "hovertemplate": "Country=%{label}<br>Population (in Millions)=%{value}<extra></extra>",
         "labels": [
          "Australia",
          "Canada",
          "China",
          "India",
          "Russia",
          "USA"
         ],
         "legendgroup": "",
         "name": "",
         "showlegend": true,
         "type": "pie",
         "values": [
          604.05,
          894.1,
          33512.85,
          32919.9,
          3454.35,
          7946.3
         ]
        }
       ],
       "layout": {
        "legend": {
         "tracegroupgap": 0
        },
        "template": {
         "data": {
          "bar": [
           {
            "error_x": {
             "color": "#2a3f5f"
            },
            "error_y": {
             "color": "#2a3f5f"
            },
            "marker": {
             "line": {
              "color": "#E5ECF6",
              "width": 0.5
             },
             "pattern": {
              "fillmode": "overlay",
              "size": 10,
              "solidity": 0.2
             }
            },
            "type": "bar"
           }
          ],
          "barpolar": [
           {
            "marker": {
             "line": {
              "color": "#E5ECF6",
              "width": 0.5
             },
             "pattern": {
              "fillmode": "overlay",
              "size": 10,
              "solidity": 0.2
             }
            },
            "type": "barpolar"
           }
          ],
          "carpet": [
           {
            "aaxis": {
             "endlinecolor": "#2a3f5f",
             "gridcolor": "white",
             "linecolor": "white",
             "minorgridcolor": "white",
             "startlinecolor": "#2a3f5f"
            },
            "baxis": {
             "endlinecolor": "#2a3f5f",
             "gridcolor": "white",
             "linecolor": "white",
             "minorgridcolor": "white",
             "startlinecolor": "#2a3f5f"
            },
            "type": "carpet"
           }
          ],
          "choropleth": [
           {
            "colorbar": {
             "outlinewidth": 0,
             "ticks": ""
            },
            "type": "choropleth"
           }
          ],
          "contour": [
           {
            "colorbar": {
             "outlinewidth": 0,
             "ticks": ""
            },
            "colorscale": [
             [
              0,
              "#0d0887"
             ],
             [
              0.1111111111111111,
              "#46039f"
             ],
             [
              0.2222222222222222,
              "#7201a8"
             ],
             [
              0.3333333333333333,
              "#9c179e"
             ],
             [
              0.4444444444444444,
              "#bd3786"
             ],
             [
              0.5555555555555556,
              "#d8576b"
             ],
             [
              0.6666666666666666,
              "#ed7953"
             ],
             [
              0.7777777777777778,
              "#fb9f3a"
             ],
             [
              0.8888888888888888,
              "#fdca26"
             ],
             [
              1,
              "#f0f921"
             ]
            ],
            "type": "contour"
           }
          ],
          "contourcarpet": [
           {
            "colorbar": {
             "outlinewidth": 0,
             "ticks": ""
            },
            "type": "contourcarpet"
           }
          ],
          "heatmap": [
           {
            "colorbar": {
             "outlinewidth": 0,
             "ticks": ""
            },
            "colorscale": [
             [
              0,
              "#0d0887"
             ],
             [
              0.1111111111111111,
              "#46039f"
             ],
             [
              0.2222222222222222,
              "#7201a8"
             ],
             [
              0.3333333333333333,
              "#9c179e"
             ],
             [
              0.4444444444444444,
              "#bd3786"
             ],
             [
              0.5555555555555556,
              "#d8576b"
             ],
             [
              0.6666666666666666,
              "#ed7953"
             ],
             [
              0.7777777777777778,
              "#fb9f3a"
             ],
             [
              0.8888888888888888,
              "#fdca26"
             ],
             [
              1,
              "#f0f921"
             ]
            ],
            "type": "heatmap"
           }
          ],
          "heatmapgl": [
           {
            "colorbar": {
             "outlinewidth": 0,
             "ticks": ""
            },
            "colorscale": [
             [
              0,
              "#0d0887"
             ],
             [
              0.1111111111111111,
              "#46039f"
             ],
             [
              0.2222222222222222,
              "#7201a8"
             ],
             [
              0.3333333333333333,
              "#9c179e"
             ],
             [
              0.4444444444444444,
              "#bd3786"
             ],
             [
              0.5555555555555556,
              "#d8576b"
             ],
             [
              0.6666666666666666,
              "#ed7953"
             ],
             [
              0.7777777777777778,
              "#fb9f3a"
             ],
             [
              0.8888888888888888,
              "#fdca26"
             ],
             [
              1,
              "#f0f921"
             ]
            ],
            "type": "heatmapgl"
           }
          ],
          "histogram": [
           {
            "marker": {
             "pattern": {
              "fillmode": "overlay",
              "size": 10,
              "solidity": 0.2
             }
            },
            "type": "histogram"
           }
          ],
          "histogram2d": [
           {
            "colorbar": {
             "outlinewidth": 0,
             "ticks": ""
            },
            "colorscale": [
             [
              0,
              "#0d0887"
             ],
             [
              0.1111111111111111,
              "#46039f"
             ],
             [
              0.2222222222222222,
              "#7201a8"
             ],
             [
              0.3333333333333333,
              "#9c179e"
             ],
             [
              0.4444444444444444,
              "#bd3786"
             ],
             [
              0.5555555555555556,
              "#d8576b"
             ],
             [
              0.6666666666666666,
              "#ed7953"
             ],
             [
              0.7777777777777778,
              "#fb9f3a"
             ],
             [
              0.8888888888888888,
              "#fdca26"
             ],
             [
              1,
              "#f0f921"
             ]
            ],
            "type": "histogram2d"
           }
          ],
          "histogram2dcontour": [
           {
            "colorbar": {
             "outlinewidth": 0,
             "ticks": ""
            },
            "colorscale": [
             [
              0,
              "#0d0887"
             ],
             [
              0.1111111111111111,
              "#46039f"
             ],
             [
              0.2222222222222222,
              "#7201a8"
             ],
             [
              0.3333333333333333,
              "#9c179e"
             ],
             [
              0.4444444444444444,
              "#bd3786"
             ],
             [
              0.5555555555555556,
              "#d8576b"
             ],
             [
              0.6666666666666666,
              "#ed7953"
             ],
             [
              0.7777777777777778,
              "#fb9f3a"
             ],
             [
              0.8888888888888888,
              "#fdca26"
             ],
             [
              1,
              "#f0f921"
             ]
            ],
            "type": "histogram2dcontour"
           }
          ],
          "mesh3d": [
           {
            "colorbar": {
             "outlinewidth": 0,
             "ticks": ""
            },
            "type": "mesh3d"
           }
          ],
          "parcoords": [
           {
            "line": {
             "colorbar": {
              "outlinewidth": 0,
              "ticks": ""
             }
            },
            "type": "parcoords"
           }
          ],
          "pie": [
           {
            "automargin": true,
            "type": "pie"
           }
          ],
          "scatter": [
           {
            "fillpattern": {
             "fillmode": "overlay",
             "size": 10,
             "solidity": 0.2
            },
            "type": "scatter"
           }
          ],
          "scatter3d": [
           {
            "line": {
             "colorbar": {
              "outlinewidth": 0,
              "ticks": ""
             }
            },
            "marker": {
             "colorbar": {
              "outlinewidth": 0,
              "ticks": ""
             }
            },
            "type": "scatter3d"
           }
          ],
          "scattercarpet": [
           {
            "marker": {
             "colorbar": {
              "outlinewidth": 0,
              "ticks": ""
             }
            },
            "type": "scattercarpet"
           }
          ],
          "scattergeo": [
           {
            "marker": {
             "colorbar": {
              "outlinewidth": 0,
              "ticks": ""
             }
            },
            "type": "scattergeo"
           }
          ],
          "scattergl": [
           {
            "marker": {
             "colorbar": {
              "outlinewidth": 0,
              "ticks": ""
             }
            },
            "type": "scattergl"
           }
          ],
          "scattermapbox": [
           {
            "marker": {
             "colorbar": {
              "outlinewidth": 0,
              "ticks": ""
             }
            },
            "type": "scattermapbox"
           }
          ],
          "scatterpolar": [
           {
            "marker": {
             "colorbar": {
              "outlinewidth": 0,
              "ticks": ""
             }
            },
            "type": "scatterpolar"
           }
          ],
          "scatterpolargl": [
           {
            "marker": {
             "colorbar": {
              "outlinewidth": 0,
              "ticks": ""
             }
            },
            "type": "scatterpolargl"
           }
          ],
          "scatterternary": [
           {
            "marker": {
             "colorbar": {
              "outlinewidth": 0,
              "ticks": ""
             }
            },
            "type": "scatterternary"
           }
          ],
          "surface": [
           {
            "colorbar": {
             "outlinewidth": 0,
             "ticks": ""
            },
            "colorscale": [
             [
              0,
              "#0d0887"
             ],
             [
              0.1111111111111111,
              "#46039f"
             ],
             [
              0.2222222222222222,
              "#7201a8"
             ],
             [
              0.3333333333333333,
              "#9c179e"
             ],
             [
              0.4444444444444444,
              "#bd3786"
             ],
             [
              0.5555555555555556,
              "#d8576b"
             ],
             [
              0.6666666666666666,
              "#ed7953"
             ],
             [
              0.7777777777777778,
              "#fb9f3a"
             ],
             [
              0.8888888888888888,
              "#fdca26"
             ],
             [
              1,
              "#f0f921"
             ]
            ],
            "type": "surface"
           }
          ],
          "table": [
           {
            "cells": {
             "fill": {
              "color": "#EBF0F8"
             },
             "line": {
              "color": "white"
             }
            },
            "header": {
             "fill": {
              "color": "#C8D4E3"
             },
             "line": {
              "color": "white"
             }
            },
            "type": "table"
           }
          ]
         },
         "layout": {
          "annotationdefaults": {
           "arrowcolor": "#2a3f5f",
           "arrowhead": 0,
           "arrowwidth": 1
          },
          "autotypenumbers": "strict",
          "coloraxis": {
           "colorbar": {
            "outlinewidth": 0,
            "ticks": ""
           }
          },
          "colorscale": {
           "diverging": [
            [
             0,
             "#8e0152"
            ],
            [
             0.1,
             "#c51b7d"
            ],
            [
             0.2,
             "#de77ae"
            ],
            [
             0.3,
             "#f1b6da"
            ],
            [
             0.4,
             "#fde0ef"
            ],
            [
             0.5,
             "#f7f7f7"
            ],
            [
             0.6,
             "#e6f5d0"
            ],
            [
             0.7,
             "#b8e186"
            ],
            [
             0.8,
             "#7fbc41"
            ],
            [
             0.9,
             "#4d9221"
            ],
            [
             1,
             "#276419"
            ]
           ],
           "sequential": [
            [
             0,
             "#0d0887"
            ],
            [
             0.1111111111111111,
             "#46039f"
            ],
            [
             0.2222222222222222,
             "#7201a8"
            ],
            [
             0.3333333333333333,
             "#9c179e"
            ],
            [
             0.4444444444444444,
             "#bd3786"
            ],
            [
             0.5555555555555556,
             "#d8576b"
            ],
            [
             0.6666666666666666,
             "#ed7953"
            ],
            [
             0.7777777777777778,
             "#fb9f3a"
            ],
            [
             0.8888888888888888,
             "#fdca26"
            ],
            [
             1,
             "#f0f921"
            ]
           ],
           "sequentialminus": [
            [
             0,
             "#0d0887"
            ],
            [
             0.1111111111111111,
             "#46039f"
            ],
            [
             0.2222222222222222,
             "#7201a8"
            ],
            [
             0.3333333333333333,
             "#9c179e"
            ],
            [
             0.4444444444444444,
             "#bd3786"
            ],
            [
             0.5555555555555556,
             "#d8576b"
            ],
            [
             0.6666666666666666,
             "#ed7953"
            ],
            [
             0.7777777777777778,
             "#fb9f3a"
            ],
            [
             0.8888888888888888,
             "#fdca26"
            ],
            [
             1,
             "#f0f921"
            ]
           ]
          },
          "colorway": [
           "#636efa",
           "#EF553B",
           "#00cc96",
           "#ab63fa",
           "#FFA15A",
           "#19d3f3",
           "#FF6692",
           "#B6E880",
           "#FF97FF",
           "#FECB52"
          ],
          "font": {
           "color": "#2a3f5f"
          },
          "geo": {
           "bgcolor": "white",
           "lakecolor": "white",
           "landcolor": "#E5ECF6",
           "showlakes": true,
           "showland": true,
           "subunitcolor": "white"
          },
          "hoverlabel": {
           "align": "left"
          },
          "hovermode": "closest",
          "mapbox": {
           "style": "light"
          },
          "paper_bgcolor": "white",
          "plot_bgcolor": "#E5ECF6",
          "polar": {
           "angularaxis": {
            "gridcolor": "white",
            "linecolor": "white",
            "ticks": ""
           },
           "bgcolor": "#E5ECF6",
           "radialaxis": {
            "gridcolor": "white",
            "linecolor": "white",
            "ticks": ""
           }
          },
          "scene": {
           "xaxis": {
            "backgroundcolor": "#E5ECF6",
            "gridcolor": "white",
            "gridwidth": 2,
            "linecolor": "white",
            "showbackground": true,
            "ticks": "",
            "zerolinecolor": "white"
           },
           "yaxis": {
            "backgroundcolor": "#E5ECF6",
            "gridcolor": "white",
            "gridwidth": 2,
            "linecolor": "white",
            "showbackground": true,
            "ticks": "",
            "zerolinecolor": "white"
           },
           "zaxis": {
            "backgroundcolor": "#E5ECF6",
            "gridcolor": "white",
            "gridwidth": 2,
            "linecolor": "white",
            "showbackground": true,
            "ticks": "",
            "zerolinecolor": "white"
           }
          },
          "shapedefaults": {
           "line": {
            "color": "#2a3f5f"
           }
          },
          "ternary": {
           "aaxis": {
            "gridcolor": "white",
            "linecolor": "white",
            "ticks": ""
           },
           "baxis": {
            "gridcolor": "white",
            "linecolor": "white",
            "ticks": ""
           },
           "bgcolor": "#E5ECF6",
           "caxis": {
            "gridcolor": "white",
            "linecolor": "white",
            "ticks": ""
           }
          },
          "title": {
           "x": 0.05
          },
          "xaxis": {
           "automargin": true,
           "gridcolor": "white",
           "linecolor": "white",
           "ticks": "",
           "title": {
            "standoff": 15
           },
           "zerolinecolor": "white",
           "zerolinewidth": 2
          },
          "yaxis": {
           "automargin": true,
           "gridcolor": "white",
           "linecolor": "white",
           "ticks": "",
           "title": {
            "standoff": 15
           },
           "zerolinecolor": "white",
           "zerolinewidth": 2
          }
         }
        },
        "title": {
         "text": "Population Distribution Among Countries"
        }
       }
      }
     },
     "metadata": {},
     "output_type": "display_data"
    }
   ],
   "source": [
    "population_by_country = df.groupby('Country')['Population (in Millions)'].sum().reset_index()\n",
    "fig = px.pie(population_by_country, names='Country', values='Population (in Millions)', \n",
    "             title='Population Distribution Among Countries')\n",
    "fig.show()"
   ]
  }
 ],
 "metadata": {
  "kernelspec": {
   "display_name": "myenv",
   "language": "python",
   "name": "python3"
  },
  "language_info": {
   "codemirror_mode": {
    "name": "ipython",
    "version": 3
   },
   "file_extension": ".py",
   "mimetype": "text/x-python",
   "name": "python",
   "nbconvert_exporter": "python",
   "pygments_lexer": "ipython3",
   "version": "3.12.4"
  }
 },
 "nbformat": 4,
 "nbformat_minor": 2
}
